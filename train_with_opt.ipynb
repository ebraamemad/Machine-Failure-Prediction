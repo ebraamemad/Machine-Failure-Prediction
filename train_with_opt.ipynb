{
 "cells": [
  {
   "cell_type": "code",
   "execution_count": 7,
   "id": "7eb87ea7",
   "metadata": {},
   "outputs": [
    {
     "name": "stdout",
     "output_type": "stream",
     "text": [
      "Epoch 1/20, Loss: 0.6686\n",
      "Epoch 2/20, Loss: 0.5616\n",
      "Epoch 3/20, Loss: 0.4686\n",
      "Epoch 4/20, Loss: 0.3957\n",
      "Epoch 5/20, Loss: 0.3300\n",
      "Epoch 6/20, Loss: 0.3056\n",
      "Epoch 7/20, Loss: 0.2655\n",
      "Epoch 8/20, Loss: 0.2568\n",
      "Epoch 9/20, Loss: 0.2428\n",
      "Epoch 10/20, Loss: 0.2335\n",
      "Epoch 11/20, Loss: 0.2219\n",
      "Epoch 12/20, Loss: 0.2163\n",
      "Epoch 13/20, Loss: 0.2178\n",
      "Epoch 14/20, Loss: 0.2159\n",
      "Epoch 15/20, Loss: 0.2118\n",
      "Epoch 16/20, Loss: 0.2087\n",
      "Epoch 17/20, Loss: 0.2098\n",
      "Epoch 18/20, Loss: 0.2103\n",
      "Epoch 19/20, Loss: 0.2039\n",
      "Epoch 20/20, Loss: 0.2005\n",
      "Test Loss: 0.3070, Test Accuracy: 0.8783\n"
     ]
    },
    {
     "data": {
      "text/plain": [
       "(SimpleNN(\n",
       "   (net): Sequential(\n",
       "     (0): Linear(in_features=9, out_features=32, bias=True)\n",
       "     (1): ReLU()\n",
       "     (2): Dropout(p=0.2, inplace=False)\n",
       "     (3): Linear(in_features=32, out_features=1, bias=True)\n",
       "     (4): Sigmoid()\n",
       "   )\n",
       " ),\n",
       " 0.8783068656921387,\n",
       " 0.30697834491729736)"
      ]
     },
     "execution_count": 7,
     "metadata": {},
     "output_type": "execute_result"
    }
   ],
   "source": [
    "import torch\n",
    "import torch.nn as nn\n",
    "import torch.nn.functional as F\n",
    "from torch.utils.data import DataLoader, TensorDataset\n",
    "from sklearn.model_selection import train_test_split\n",
    "from sklearn.preprocessing import StandardScaler\n",
    "import pandas as pd\n",
    "import numpy as np\n",
    "\n",
    "# قراءة البيانات\n",
    "df = pd.read_csv(\"data/prepro_data.csv\")\n",
    "x = df.drop(columns=['fail'])\n",
    "y = df['fail']\n",
    "\n",
    "\n",
    "\n",
    "\n",
    "\n",
    "x_train, x_test, y_train, y_test = train_test_split(x, y, test_size=0.2, random_state=42)\n",
    "\n",
    "x_train_tensor = torch.tensor(x_train.values, dtype=torch.float32)\n",
    "y_train_tensor = torch.tensor(y_train.values, dtype=torch.float32).unsqueeze(1)\n",
    "x_test_tensor = torch.tensor(x_test.values, dtype=torch.float32)\n",
    "y_test_tensor = torch.tensor(y_test.values, dtype=torch.float32).unsqueeze(1)\n",
    "\n",
    "train_dataset = TensorDataset(x_train_tensor, y_train_tensor)\n",
    "test_dataset = TensorDataset(x_test_tensor, y_test_tensor)\n",
    "\n",
    "train_loader = DataLoader(train_dataset, batch_size=20, shuffle=True)\n",
    "test_loader = DataLoader(test_dataset, batch_size=20)\n",
    "\n",
    "# تعريف النموذج\n",
    "class SimpleNN(nn.Module):\n",
    "    def __init__(self, input_dim,hidden_dim,dropout_rate):\n",
    "        \n",
    "        super().__init__()\n",
    "        self.net= nn.Sequential(\n",
    "            nn.Linear(input_dim, hidden_dim),\n",
    "            nn.ReLU(),\n",
    "            nn.Dropout(dropout_rate),\n",
    "            nn.Linear(hidden_dim, 1),\n",
    "            nn.Sigmoid()\n",
    "        )\n",
    "     \n",
    "    def forward(self, x):\n",
    "        x = self.net(x)\n",
    "        return x\n",
    "\n",
    "def train_model(params):\n",
    "    \n",
    "    model = SimpleNN(x_train.shape[1], params['hidden_dim'], params['dropout_rate'])\n",
    "    loss_fn = nn.BCELoss()\n",
    "    optimizer = torch.optim.Adam(model.parameters(), lr=params['learning_rate'])\n",
    "\n",
    "# التدريب\n",
    "    for epoch in range(20):\n",
    "        model.train()\n",
    "        running_loss = 0.0\n",
    "        for inputs, targets in train_loader:\n",
    "            optimizer.zero_grad()\n",
    "            outputs = model(inputs)\n",
    "            loss = loss_fn(outputs, targets)\n",
    "            loss.backward()\n",
    "            optimizer.step()\n",
    "            running_loss += loss.item()\n",
    "        print(f\"Epoch {epoch+1}/20, Loss: {running_loss/len(train_loader):.4f}\")\n",
    "# التقييم\n",
    "    model.eval()\n",
    "\n",
    "    with torch.no_grad():\n",
    "        test_pred = model(x_test_tensor)\n",
    "        test_loss = loss_fn(test_pred, y_test_tensor)\n",
    "        test_accuracy = ((test_pred > 0.5).float() == y_test_tensor).float().mean().item()\n",
    "        print(f\"Test Loss: {test_loss:.4f}, Test Accuracy: {test_accuracy:.4f}\")\n",
    "    # حفظ النموذج\n",
    "    torch.save(model.state_dict(), \"model.pth\")\n",
    "    return model, test_accuracy, test_loss.item()\n",
    "\n",
    "train_model({'learning_rate': 0.001, 'hidden_dim': 32, 'dropout_rate': 0.2})     \n"
   ]
  },
  {
   "cell_type": "code",
   "execution_count": 8,
   "id": "16dc4c4b",
   "metadata": {},
   "outputs": [
    {
     "name": "stdout",
     "output_type": "stream",
     "text": [
      "Using device: cpu\n"
     ]
    }
   ],
   "source": [
    "device = torch.device(\"cuda\" if torch.cuda.is_available() else \"cpu\")\n",
    "print(f\"Using device: {device}\")"
   ]
  },
  {
   "cell_type": "code",
   "execution_count": 9,
   "id": "cac0edc7",
   "metadata": {},
   "outputs": [],
   "source": [
    " import mlflow\n",
    " import mlflow.pytorch\n",
    " def objective(trail):\n",
    "    params = {\n",
    "        'learning_rate': trail.suggest_float('learning_rate', 1e-5, 1e-2, log=True),\n",
    "        'hidden_dim': trail.suggest_int('hidden_dim', 16, 128),\n",
    "        'dropout_rate': trail.suggest_float('dropout_rate', 0.0, 0.5)\n",
    "    }\n",
    "    with mlflow.start_run():\n",
    "        model, accuracy, loss = train_model(params)\n",
    "        mlflow.log_params(params)\n",
    "        mlflow.log_metric('accuracy', accuracy)\n",
    "        mlflow.log_metric('loss', loss)\n",
    "        mlflow.pytorch.log_model(model, \"model\")\n",
    "    \n",
    "    \n",
    "    return {'loss': loss, 'accuracy': accuracy} "
   ]
  },
  {
   "cell_type": "code",
   "execution_count": 10,
   "id": "f7533ed3",
   "metadata": {},
   "outputs": [
    {
     "name": "stderr",
     "output_type": "stream",
     "text": [
      "[I 2025-06-18 20:11:40,328] A new study created in memory with name: no-name-e097d693-4e04-4a52-b1a4-a11ca73b1da5\n"
     ]
    },
    {
     "name": "stdout",
     "output_type": "stream",
     "text": [
      "Epoch 1/20, Loss: 0.3401\n",
      "Epoch 2/20, Loss: 0.2294\n",
      "Epoch 3/20, Loss: 0.2098\n",
      "Epoch 4/20, Loss: 0.2082\n",
      "Epoch 5/20, Loss: 0.2040\n",
      "Epoch 6/20, Loss: 0.1780\n",
      "Epoch 7/20, Loss: 0.1817\n",
      "Epoch 8/20, Loss: 0.1813\n",
      "Epoch 9/20, Loss: 0.1698\n",
      "Epoch 10/20, Loss: 0.1746\n",
      "Epoch 11/20, Loss: 0.1744\n",
      "Epoch 12/20, Loss: 0.1524\n",
      "Epoch 13/20, Loss: 0.1605\n",
      "Epoch 14/20, Loss: 0.1460\n",
      "Epoch 15/20, Loss: 0.1638\n",
      "Epoch 16/20, Loss: 0.1471\n",
      "Epoch 17/20, Loss: 0.1481\n",
      "Epoch 18/20, Loss: 0.1545\n",
      "Epoch 19/20, Loss: 0.1313\n",
      "Epoch 20/20, Loss: 0.1341\n",
      "Test Loss: 0.4085, Test Accuracy: 0.8783\n"
     ]
    },
    {
     "name": "stderr",
     "output_type": "stream",
     "text": [
      "2025/06/18 20:13:01 WARNING mlflow.models.model: Model logged without a signature and input example. Please set `input_example` parameter when logging the model to auto infer the model signature.\n",
      "[W 2025-06-18 20:13:02,030] Trial 0 failed with parameters: {'learning_rate': 0.007785722973294019, 'hidden_dim': 127, 'dropout_rate': 0.3135822836051216} because of the following error: The value {'loss': 0.4084722101688385, 'accuracy': 0.8783068656921387} could not be cast to float.\n",
      "[W 2025-06-18 20:13:02,030] Trial 0 failed with value {'loss': 0.4084722101688385, 'accuracy': 0.8783068656921387}.\n"
     ]
    },
    {
     "name": "stdout",
     "output_type": "stream",
     "text": [
      "Epoch 1/20, Loss: 0.3318\n",
      "Epoch 2/20, Loss: 0.2151\n",
      "Epoch 3/20, Loss: 0.2004\n",
      "Epoch 4/20, Loss: 0.1870\n",
      "Epoch 5/20, Loss: 0.1790\n",
      "Epoch 6/20, Loss: 0.1809\n",
      "Epoch 7/20, Loss: 0.1689\n",
      "Epoch 8/20, Loss: 0.1610\n",
      "Epoch 9/20, Loss: 0.1496\n",
      "Epoch 10/20, Loss: 0.1543\n",
      "Epoch 11/20, Loss: 0.1441\n",
      "Epoch 12/20, Loss: 0.1443\n",
      "Epoch 13/20, Loss: 0.1379\n",
      "Epoch 14/20, Loss: 0.1414\n",
      "Epoch 15/20, Loss: 0.1420\n",
      "Epoch 16/20, Loss: 0.1284\n",
      "Epoch 17/20, Loss: 0.1271\n",
      "Epoch 18/20, Loss: 0.1368\n",
      "Epoch 19/20, Loss: 0.1299\n",
      "Epoch 20/20, Loss: 0.1112\n",
      "Test Loss: 0.4613, Test Accuracy: 0.8730\n"
     ]
    },
    {
     "name": "stderr",
     "output_type": "stream",
     "text": [
      "2025/06/18 20:13:13 WARNING mlflow.models.model: Model logged without a signature and input example. Please set `input_example` parameter when logging the model to auto infer the model signature.\n",
      "[W 2025-06-18 20:13:13,537] Trial 1 failed with parameters: {'learning_rate': 0.0064190295187403585, 'hidden_dim': 107, 'dropout_rate': 0.09362316126493303} because of the following error: The value {'loss': 0.46129778027534485, 'accuracy': 0.8730158805847168} could not be cast to float.\n",
      "[W 2025-06-18 20:13:13,546] Trial 1 failed with value {'loss': 0.46129778027534485, 'accuracy': 0.8730158805847168}.\n"
     ]
    },
    {
     "name": "stdout",
     "output_type": "stream",
     "text": [
      "Epoch 1/20, Loss: 0.6158\n",
      "Epoch 2/20, Loss: 0.4785\n",
      "Epoch 3/20, Loss: 0.3557\n",
      "Epoch 4/20, Loss: 0.2816\n",
      "Epoch 5/20, Loss: 0.2439\n",
      "Epoch 6/20, Loss: 0.2228\n",
      "Epoch 7/20, Loss: 0.2180\n",
      "Epoch 8/20, Loss: 0.2020\n",
      "Epoch 9/20, Loss: 0.2009\n",
      "Epoch 10/20, Loss: 0.1940\n",
      "Epoch 11/20, Loss: 0.1923\n",
      "Epoch 12/20, Loss: 0.1931\n",
      "Epoch 13/20, Loss: 0.1935\n",
      "Epoch 14/20, Loss: 0.1895\n",
      "Epoch 15/20, Loss: 0.1833\n",
      "Epoch 16/20, Loss: 0.1850\n",
      "Epoch 17/20, Loss: 0.1786\n",
      "Epoch 18/20, Loss: 0.1839\n",
      "Epoch 19/20, Loss: 0.1719\n",
      "Epoch 20/20, Loss: 0.1775\n",
      "Test Loss: 0.3123, Test Accuracy: 0.8677\n"
     ]
    },
    {
     "name": "stderr",
     "output_type": "stream",
     "text": [
      "2025/06/18 20:13:24 WARNING mlflow.models.model: Model logged without a signature and input example. Please set `input_example` parameter when logging the model to auto infer the model signature.\n",
      "[W 2025-06-18 20:13:24,307] Trial 2 failed with parameters: {'learning_rate': 0.0011275569423423533, 'hidden_dim': 89, 'dropout_rate': 0.14846578262266746} because of the following error: The value {'loss': 0.3123091459274292, 'accuracy': 0.8677248954772949} could not be cast to float.\n",
      "[W 2025-06-18 20:13:24,307] Trial 2 failed with value {'loss': 0.3123091459274292, 'accuracy': 0.8677248954772949}.\n"
     ]
    },
    {
     "name": "stdout",
     "output_type": "stream",
     "text": [
      "Epoch 1/20, Loss: 0.6235\n",
      "Epoch 2/20, Loss: 0.5944\n",
      "Epoch 3/20, Loss: 0.5644\n",
      "Epoch 4/20, Loss: 0.5381\n",
      "Epoch 5/20, Loss: 0.5114\n",
      "Epoch 6/20, Loss: 0.4882\n",
      "Epoch 7/20, Loss: 0.4601\n",
      "Epoch 8/20, Loss: 0.4399\n",
      "Epoch 9/20, Loss: 0.4182\n",
      "Epoch 10/20, Loss: 0.3940\n",
      "Epoch 11/20, Loss: 0.3879\n",
      "Epoch 12/20, Loss: 0.3595\n",
      "Epoch 13/20, Loss: 0.3498\n",
      "Epoch 14/20, Loss: 0.3380\n",
      "Epoch 15/20, Loss: 0.3222\n",
      "Epoch 16/20, Loss: 0.3076\n",
      "Epoch 17/20, Loss: 0.3020\n",
      "Epoch 18/20, Loss: 0.2848\n",
      "Epoch 19/20, Loss: 0.2866\n",
      "Epoch 20/20, Loss: 0.2751\n",
      "Test Loss: 0.3314, Test Accuracy: 0.8730\n"
     ]
    },
    {
     "name": "stderr",
     "output_type": "stream",
     "text": [
      "2025/06/18 20:13:34 WARNING mlflow.models.model: Model logged without a signature and input example. Please set `input_example` parameter when logging the model to auto infer the model signature.\n",
      "[W 2025-06-18 20:13:34,784] Trial 3 failed with parameters: {'learning_rate': 0.00014661478205072953, 'hidden_dim': 108, 'dropout_rate': 0.2174149471273144} because of the following error: The value {'loss': 0.33136624097824097, 'accuracy': 0.8730158805847168} could not be cast to float.\n",
      "[W 2025-06-18 20:13:34,784] Trial 3 failed with value {'loss': 0.33136624097824097, 'accuracy': 0.8730158805847168}.\n"
     ]
    },
    {
     "name": "stdout",
     "output_type": "stream",
     "text": [
      "Epoch 1/20, Loss: 0.6859\n",
      "Epoch 2/20, Loss: 0.6150\n",
      "Epoch 3/20, Loss: 0.5734\n",
      "Epoch 4/20, Loss: 0.5262\n",
      "Epoch 5/20, Loss: 0.4868\n",
      "Epoch 6/20, Loss: 0.4514\n",
      "Epoch 7/20, Loss: 0.3966\n",
      "Epoch 8/20, Loss: 0.3744\n",
      "Epoch 9/20, Loss: 0.3500\n",
      "Epoch 10/20, Loss: 0.3195\n",
      "Epoch 11/20, Loss: 0.3018\n",
      "Epoch 12/20, Loss: 0.2860\n",
      "Epoch 13/20, Loss: 0.2784\n",
      "Epoch 14/20, Loss: 0.2669\n",
      "Epoch 15/20, Loss: 0.2560\n",
      "Epoch 16/20, Loss: 0.2507\n",
      "Epoch 17/20, Loss: 0.2499\n",
      "Epoch 18/20, Loss: 0.2401\n",
      "Epoch 19/20, Loss: 0.2290\n",
      "Epoch 20/20, Loss: 0.2256\n",
      "Test Loss: 0.3022, Test Accuracy: 0.8677\n"
     ]
    },
    {
     "name": "stderr",
     "output_type": "stream",
     "text": [
      "2025/06/18 20:13:45 WARNING mlflow.models.model: Model logged without a signature and input example. Please set `input_example` parameter when logging the model to auto infer the model signature.\n",
      "[W 2025-06-18 20:13:45,642] Trial 4 failed with parameters: {'learning_rate': 0.0004538334323659169, 'hidden_dim': 54, 'dropout_rate': 0.3469077251296962} because of the following error: The value {'loss': 0.3022347092628479, 'accuracy': 0.8677248954772949} could not be cast to float.\n",
      "[W 2025-06-18 20:13:45,642] Trial 4 failed with value {'loss': 0.3022347092628479, 'accuracy': 0.8677248954772949}.\n"
     ]
    },
    {
     "name": "stdout",
     "output_type": "stream",
     "text": [
      "Epoch 1/20, Loss: 0.8176\n",
      "Epoch 2/20, Loss: 0.8123\n",
      "Epoch 3/20, Loss: 0.8050\n",
      "Epoch 4/20, Loss: 0.7994\n",
      "Epoch 5/20, Loss: 0.7858\n",
      "Epoch 6/20, Loss: 0.7792\n",
      "Epoch 7/20, Loss: 0.7642\n",
      "Epoch 8/20, Loss: 0.7594\n",
      "Epoch 9/20, Loss: 0.7565\n",
      "Epoch 10/20, Loss: 0.7393\n",
      "Epoch 11/20, Loss: 0.7317\n",
      "Epoch 12/20, Loss: 0.7295\n",
      "Epoch 13/20, Loss: 0.7246\n",
      "Epoch 14/20, Loss: 0.7190\n",
      "Epoch 15/20, Loss: 0.7057\n",
      "Epoch 16/20, Loss: 0.7045\n",
      "Epoch 17/20, Loss: 0.6945\n",
      "Epoch 18/20, Loss: 0.6869\n",
      "Epoch 19/20, Loss: 0.6883\n",
      "Epoch 20/20, Loss: 0.6790\n",
      "Test Loss: 0.6896, Test Accuracy: 0.5397\n"
     ]
    },
    {
     "name": "stderr",
     "output_type": "stream",
     "text": [
      "2025/06/18 20:13:56 WARNING mlflow.models.model: Model logged without a signature and input example. Please set `input_example` parameter when logging the model to auto infer the model signature.\n",
      "[W 2025-06-18 20:13:56,533] Trial 5 failed with parameters: {'learning_rate': 4.903671310127408e-05, 'hidden_dim': 36, 'dropout_rate': 0.24130015546000227} because of the following error: The value {'loss': 0.689649224281311, 'accuracy': 0.5396825671195984} could not be cast to float.\n",
      "[W 2025-06-18 20:13:56,533] Trial 5 failed with value {'loss': 0.689649224281311, 'accuracy': 0.5396825671195984}.\n"
     ]
    },
    {
     "name": "stdout",
     "output_type": "stream",
     "text": [
      "Epoch 1/20, Loss: 0.6041\n",
      "Epoch 2/20, Loss: 0.4885\n",
      "Epoch 3/20, Loss: 0.4166\n",
      "Epoch 4/20, Loss: 0.3458\n",
      "Epoch 5/20, Loss: 0.2996\n",
      "Epoch 6/20, Loss: 0.2602\n",
      "Epoch 7/20, Loss: 0.2517\n",
      "Epoch 8/20, Loss: 0.2430\n",
      "Epoch 9/20, Loss: 0.2276\n",
      "Epoch 10/20, Loss: 0.2228\n",
      "Epoch 11/20, Loss: 0.2100\n",
      "Epoch 12/20, Loss: 0.2174\n",
      "Epoch 13/20, Loss: 0.2129\n",
      "Epoch 14/20, Loss: 0.2134\n",
      "Epoch 15/20, Loss: 0.2104\n",
      "Epoch 16/20, Loss: 0.2025\n",
      "Epoch 17/20, Loss: 0.2083\n",
      "Epoch 18/20, Loss: 0.2059\n",
      "Epoch 19/20, Loss: 0.1895\n",
      "Epoch 20/20, Loss: 0.1998\n",
      "Test Loss: 0.3042, Test Accuracy: 0.8677\n"
     ]
    },
    {
     "name": "stderr",
     "output_type": "stream",
     "text": [
      "2025/06/18 20:14:07 WARNING mlflow.models.model: Model logged without a signature and input example. Please set `input_example` parameter when logging the model to auto infer the model signature.\n",
      "[W 2025-06-18 20:14:07,455] Trial 6 failed with parameters: {'learning_rate': 0.0012284294284153263, 'hidden_dim': 37, 'dropout_rate': 0.22740581928692316} because of the following error: The value {'loss': 0.30423831939697266, 'accuracy': 0.8677248954772949} could not be cast to float.\n",
      "[W 2025-06-18 20:14:07,455] Trial 6 failed with value {'loss': 0.30423831939697266, 'accuracy': 0.8677248954772949}.\n"
     ]
    },
    {
     "name": "stdout",
     "output_type": "stream",
     "text": [
      "Epoch 1/20, Loss: 0.7075\n",
      "Epoch 2/20, Loss: 0.6923\n",
      "Epoch 3/20, Loss: 0.6988\n",
      "Epoch 4/20, Loss: 0.6808\n",
      "Epoch 5/20, Loss: 0.6651\n",
      "Epoch 6/20, Loss: 0.6609\n",
      "Epoch 7/20, Loss: 0.6591\n",
      "Epoch 8/20, Loss: 0.6484\n",
      "Epoch 9/20, Loss: 0.6358\n",
      "Epoch 10/20, Loss: 0.6301\n",
      "Epoch 11/20, Loss: 0.6226\n",
      "Epoch 12/20, Loss: 0.6104\n",
      "Epoch 13/20, Loss: 0.6068\n",
      "Epoch 14/20, Loss: 0.5942\n",
      "Epoch 15/20, Loss: 0.5909\n",
      "Epoch 16/20, Loss: 0.5909\n",
      "Epoch 17/20, Loss: 0.5806\n",
      "Epoch 18/20, Loss: 0.5701\n",
      "Epoch 19/20, Loss: 0.5640\n",
      "Epoch 20/20, Loss: 0.5569\n",
      "Test Loss: 0.5682, Test Accuracy: 0.7989\n"
     ]
    },
    {
     "name": "stderr",
     "output_type": "stream",
     "text": [
      "2025/06/18 20:14:18 WARNING mlflow.models.model: Model logged without a signature and input example. Please set `input_example` parameter when logging the model to auto infer the model signature.\n",
      "[W 2025-06-18 20:14:18,423] Trial 7 failed with parameters: {'learning_rate': 7.972186519798517e-05, 'hidden_dim': 40, 'dropout_rate': 0.24327222646909913} because of the following error: The value {'loss': 0.5681996941566467, 'accuracy': 0.7989417910575867} could not be cast to float.\n",
      "[W 2025-06-18 20:14:18,423] Trial 7 failed with value {'loss': 0.5681996941566467, 'accuracy': 0.7989417910575867}.\n"
     ]
    },
    {
     "name": "stdout",
     "output_type": "stream",
     "text": [
      "Epoch 1/20, Loss: 0.5818\n",
      "Epoch 2/20, Loss: 0.3653\n",
      "Epoch 3/20, Loss: 0.2757\n",
      "Epoch 4/20, Loss: 0.2355\n",
      "Epoch 5/20, Loss: 0.2200\n",
      "Epoch 6/20, Loss: 0.2338\n",
      "Epoch 7/20, Loss: 0.2251\n",
      "Epoch 8/20, Loss: 0.2218\n",
      "Epoch 9/20, Loss: 0.2120\n",
      "Epoch 10/20, Loss: 0.1981\n",
      "Epoch 11/20, Loss: 0.2068\n",
      "Epoch 12/20, Loss: 0.2045\n",
      "Epoch 13/20, Loss: 0.1967\n",
      "Epoch 14/20, Loss: 0.1994\n",
      "Epoch 15/20, Loss: 0.2035\n",
      "Epoch 16/20, Loss: 0.1996\n",
      "Epoch 17/20, Loss: 0.1921\n",
      "Epoch 18/20, Loss: 0.1744\n",
      "Epoch 19/20, Loss: 0.1917\n",
      "Epoch 20/20, Loss: 0.1726\n",
      "Test Loss: 0.3205, Test Accuracy: 0.8677\n"
     ]
    },
    {
     "name": "stderr",
     "output_type": "stream",
     "text": [
      "2025/06/18 20:14:28 WARNING mlflow.models.model: Model logged without a signature and input example. Please set `input_example` parameter when logging the model to auto infer the model signature.\n",
      "[W 2025-06-18 20:14:28,740] Trial 8 failed with parameters: {'learning_rate': 0.002561793502214894, 'hidden_dim': 48, 'dropout_rate': 0.45179020196953135} because of the following error: The value {'loss': 0.32051247358322144, 'accuracy': 0.8677248954772949} could not be cast to float.\n",
      "[W 2025-06-18 20:14:28,740] Trial 8 failed with value {'loss': 0.32051247358322144, 'accuracy': 0.8677248954772949}.\n"
     ]
    },
    {
     "name": "stdout",
     "output_type": "stream",
     "text": [
      "Epoch 1/20, Loss: 0.7248\n",
      "Epoch 2/20, Loss: 0.7113\n",
      "Epoch 3/20, Loss: 0.7024\n",
      "Epoch 4/20, Loss: 0.6927\n",
      "Epoch 5/20, Loss: 0.6824\n",
      "Epoch 6/20, Loss: 0.6712\n",
      "Epoch 7/20, Loss: 0.6656\n",
      "Epoch 8/20, Loss: 0.6539\n",
      "Epoch 9/20, Loss: 0.6500\n",
      "Epoch 10/20, Loss: 0.6408\n",
      "Epoch 11/20, Loss: 0.6331\n",
      "Epoch 12/20, Loss: 0.6214\n",
      "Epoch 13/20, Loss: 0.6154\n",
      "Epoch 14/20, Loss: 0.6090\n",
      "Epoch 15/20, Loss: 0.6028\n",
      "Epoch 16/20, Loss: 0.5908\n",
      "Epoch 17/20, Loss: 0.5865\n",
      "Epoch 18/20, Loss: 0.5782\n",
      "Epoch 19/20, Loss: 0.5712\n",
      "Epoch 20/20, Loss: 0.5574\n",
      "Test Loss: 0.5789, Test Accuracy: 0.8042\n"
     ]
    },
    {
     "name": "stderr",
     "output_type": "stream",
     "text": [
      "2025/06/18 20:14:39 WARNING mlflow.models.model: Model logged without a signature and input example. Please set `input_example` parameter when logging the model to auto infer the model signature.\n",
      "[W 2025-06-18 20:14:39,640] Trial 9 failed with parameters: {'learning_rate': 0.00010778795530122708, 'hidden_dim': 20, 'dropout_rate': 0.07673557620826793} because of the following error: The value {'loss': 0.5789287686347961, 'accuracy': 0.8042327761650085} could not be cast to float.\n",
      "[W 2025-06-18 20:14:39,640] Trial 9 failed with value {'loss': 0.5789287686347961, 'accuracy': 0.8042327761650085}.\n"
     ]
    },
    {
     "name": "stdout",
     "output_type": "stream",
     "text": [
      "Epoch 1/20, Loss: 0.7526\n",
      "Epoch 2/20, Loss: 0.7538\n",
      "Epoch 3/20, Loss: 0.7469\n",
      "Epoch 4/20, Loss: 0.7410\n",
      "Epoch 5/20, Loss: 0.7297\n",
      "Epoch 6/20, Loss: 0.7337\n",
      "Epoch 7/20, Loss: 0.7241\n",
      "Epoch 8/20, Loss: 0.7207\n",
      "Epoch 9/20, Loss: 0.7173\n",
      "Epoch 10/20, Loss: 0.7057\n",
      "Epoch 11/20, Loss: 0.7021\n",
      "Epoch 12/20, Loss: 0.6992\n",
      "Epoch 13/20, Loss: 0.6968\n",
      "Epoch 14/20, Loss: 0.6851\n",
      "Epoch 15/20, Loss: 0.6822\n",
      "Epoch 16/20, Loss: 0.6792\n",
      "Epoch 17/20, Loss: 0.6786\n",
      "Epoch 18/20, Loss: 0.6696\n",
      "Epoch 19/20, Loss: 0.6661\n",
      "Epoch 20/20, Loss: 0.6626\n",
      "Test Loss: 0.6599, Test Accuracy: 0.7037\n"
     ]
    },
    {
     "name": "stderr",
     "output_type": "stream",
     "text": [
      "2025/06/18 20:14:50 WARNING mlflow.models.model: Model logged without a signature and input example. Please set `input_example` parameter when logging the model to auto infer the model signature.\n",
      "[W 2025-06-18 20:14:50,274] Trial 10 failed with parameters: {'learning_rate': 6.38824598006066e-05, 'hidden_dim': 16, 'dropout_rate': 0.2033226008779001} because of the following error: The value {'loss': 0.6598527431488037, 'accuracy': 0.7037037014961243} could not be cast to float.\n",
      "[W 2025-06-18 20:14:50,274] Trial 10 failed with value {'loss': 0.6598527431488037, 'accuracy': 0.7037037014961243}.\n"
     ]
    },
    {
     "name": "stdout",
     "output_type": "stream",
     "text": [
      "Epoch 1/20, Loss: 0.7013\n",
      "Epoch 2/20, Loss: 0.7128\n",
      "Epoch 3/20, Loss: 0.6930\n",
      "Epoch 4/20, Loss: 0.6801\n",
      "Epoch 5/20, Loss: 0.6738\n",
      "Epoch 6/20, Loss: 0.6497\n",
      "Epoch 7/20, Loss: 0.6479\n",
      "Epoch 8/20, Loss: 0.6502\n",
      "Epoch 9/20, Loss: 0.6272\n",
      "Epoch 10/20, Loss: 0.6203\n",
      "Epoch 11/20, Loss: 0.6232\n",
      "Epoch 12/20, Loss: 0.6031\n",
      "Epoch 13/20, Loss: 0.5969\n",
      "Epoch 14/20, Loss: 0.5947\n",
      "Epoch 15/20, Loss: 0.5878\n",
      "Epoch 16/20, Loss: 0.5839\n",
      "Epoch 17/20, Loss: 0.5692\n",
      "Epoch 18/20, Loss: 0.5662\n",
      "Epoch 19/20, Loss: 0.5595\n",
      "Epoch 20/20, Loss: 0.5545\n",
      "Test Loss: 0.5478, Test Accuracy: 0.8254\n"
     ]
    },
    {
     "name": "stderr",
     "output_type": "stream",
     "text": [
      "2025/06/18 20:15:00 WARNING mlflow.models.model: Model logged without a signature and input example. Please set `input_example` parameter when logging the model to auto infer the model signature.\n",
      "[W 2025-06-18 20:15:00,499] Trial 11 failed with parameters: {'learning_rate': 3.473945977068592e-05, 'hidden_dim': 113, 'dropout_rate': 0.328251969066327} because of the following error: The value {'loss': 0.5477911233901978, 'accuracy': 0.8253968358039856} could not be cast to float.\n",
      "[W 2025-06-18 20:15:00,499] Trial 11 failed with value {'loss': 0.5477911233901978, 'accuracy': 0.8253968358039856}.\n"
     ]
    },
    {
     "name": "stdout",
     "output_type": "stream",
     "text": [
      "Epoch 1/20, Loss: 0.6349\n",
      "Epoch 2/20, Loss: 0.5220\n",
      "Epoch 3/20, Loss: 0.4353\n",
      "Epoch 4/20, Loss: 0.3636\n",
      "Epoch 5/20, Loss: 0.3233\n",
      "Epoch 6/20, Loss: 0.2798\n",
      "Epoch 7/20, Loss: 0.2726\n",
      "Epoch 8/20, Loss: 0.2618\n",
      "Epoch 9/20, Loss: 0.2453\n",
      "Epoch 10/20, Loss: 0.2415\n",
      "Epoch 11/20, Loss: 0.2434\n",
      "Epoch 12/20, Loss: 0.2317\n",
      "Epoch 13/20, Loss: 0.2340\n",
      "Epoch 14/20, Loss: 0.2233\n",
      "Epoch 15/20, Loss: 0.2205\n",
      "Epoch 16/20, Loss: 0.2224\n",
      "Epoch 17/20, Loss: 0.2379\n",
      "Epoch 18/20, Loss: 0.2124\n",
      "Epoch 19/20, Loss: 0.2142\n",
      "Epoch 20/20, Loss: 0.2094\n",
      "Test Loss: 0.3286, Test Accuracy: 0.8730\n"
     ]
    },
    {
     "name": "stderr",
     "output_type": "stream",
     "text": [
      "2025/06/18 20:15:10 WARNING mlflow.models.model: Model logged without a signature and input example. Please set `input_example` parameter when logging the model to auto infer the model signature.\n",
      "[W 2025-06-18 20:15:10,895] Trial 12 failed with parameters: {'learning_rate': 0.0014913808989625032, 'hidden_dim': 31, 'dropout_rate': 0.47566475502846284} because of the following error: The value {'loss': 0.3286423981189728, 'accuracy': 0.8730158805847168} could not be cast to float.\n",
      "[W 2025-06-18 20:15:10,895] Trial 12 failed with value {'loss': 0.3286423981189728, 'accuracy': 0.8730158805847168}.\n"
     ]
    },
    {
     "name": "stdout",
     "output_type": "stream",
     "text": [
      "Epoch 1/20, Loss: 0.3472\n",
      "Epoch 2/20, Loss: 0.2153\n",
      "Epoch 3/20, Loss: 0.1931\n",
      "Epoch 4/20, Loss: 0.1844\n",
      "Epoch 5/20, Loss: 0.1839\n",
      "Epoch 6/20, Loss: 0.1709\n",
      "Epoch 7/20, Loss: 0.1603\n",
      "Epoch 8/20, Loss: 0.1500\n",
      "Epoch 9/20, Loss: 0.1485\n",
      "Epoch 10/20, Loss: 0.1435\n",
      "Epoch 11/20, Loss: 0.1484\n",
      "Epoch 12/20, Loss: 0.1537\n",
      "Epoch 13/20, Loss: 0.1306\n",
      "Epoch 14/20, Loss: 0.1305\n",
      "Epoch 15/20, Loss: 0.1309\n",
      "Epoch 16/20, Loss: 0.1267\n",
      "Epoch 17/20, Loss: 0.1245\n",
      "Epoch 18/20, Loss: 0.1165\n",
      "Epoch 19/20, Loss: 0.1147\n",
      "Epoch 20/20, Loss: 0.1063\n",
      "Test Loss: 0.4798, Test Accuracy: 0.8624\n"
     ]
    },
    {
     "name": "stderr",
     "output_type": "stream",
     "text": [
      "2025/06/18 20:15:21 WARNING mlflow.models.model: Model logged without a signature and input example. Please set `input_example` parameter when logging the model to auto infer the model signature.\n",
      "[W 2025-06-18 20:15:21,778] Trial 13 failed with parameters: {'learning_rate': 0.007673592240908668, 'hidden_dim': 118, 'dropout_rate': 0.05246819971797134} because of the following error: The value {'loss': 0.4798142910003662, 'accuracy': 0.8624338507652283} could not be cast to float.\n",
      "[W 2025-06-18 20:15:21,778] Trial 13 failed with value {'loss': 0.4798142910003662, 'accuracy': 0.8624338507652283}.\n"
     ]
    },
    {
     "name": "stdout",
     "output_type": "stream",
     "text": [
      "Epoch 1/20, Loss: 0.5758\n",
      "Epoch 2/20, Loss: 0.3691\n",
      "Epoch 3/20, Loss: 0.2652\n",
      "Epoch 4/20, Loss: 0.2359\n",
      "Epoch 5/20, Loss: 0.2171\n",
      "Epoch 6/20, Loss: 0.2103\n",
      "Epoch 7/20, Loss: 0.2067\n",
      "Epoch 8/20, Loss: 0.1894\n",
      "Epoch 9/20, Loss: 0.1980\n",
      "Epoch 10/20, Loss: 0.1920\n",
      "Epoch 11/20, Loss: 0.1822\n",
      "Epoch 12/20, Loss: 0.1840\n",
      "Epoch 13/20, Loss: 0.1869\n",
      "Epoch 14/20, Loss: 0.1807\n",
      "Epoch 15/20, Loss: 0.1772\n",
      "Epoch 16/20, Loss: 0.1722\n",
      "Epoch 17/20, Loss: 0.1791\n",
      "Epoch 18/20, Loss: 0.1766\n",
      "Epoch 19/20, Loss: 0.1739\n",
      "Epoch 20/20, Loss: 0.1727\n",
      "Test Loss: 0.3323, Test Accuracy: 0.8677\n"
     ]
    },
    {
     "name": "stderr",
     "output_type": "stream",
     "text": [
      "2025/06/18 20:15:31 WARNING mlflow.models.model: Model logged without a signature and input example. Please set `input_example` parameter when logging the model to auto infer the model signature.\n",
      "[W 2025-06-18 20:15:31,984] Trial 14 failed with parameters: {'learning_rate': 0.0025648773739849833, 'hidden_dim': 40, 'dropout_rate': 0.09343173528621102} because of the following error: The value {'loss': 0.33225786685943604, 'accuracy': 0.8677248954772949} could not be cast to float.\n",
      "[W 2025-06-18 20:15:31,984] Trial 14 failed with value {'loss': 0.33225786685943604, 'accuracy': 0.8677248954772949}.\n"
     ]
    },
    {
     "name": "stdout",
     "output_type": "stream",
     "text": [
      "Epoch 1/20, Loss: 0.7417\n",
      "Epoch 2/20, Loss: 0.7362\n",
      "Epoch 3/20, Loss: 0.7329\n",
      "Epoch 4/20, Loss: 0.7327\n",
      "Epoch 5/20, Loss: 0.7321\n",
      "Epoch 6/20, Loss: 0.7200\n",
      "Epoch 7/20, Loss: 0.7232\n",
      "Epoch 8/20, Loss: 0.7173\n",
      "Epoch 9/20, Loss: 0.7065\n",
      "Epoch 10/20, Loss: 0.7139\n",
      "Epoch 11/20, Loss: 0.7063\n",
      "Epoch 12/20, Loss: 0.7013\n",
      "Epoch 13/20, Loss: 0.6996\n",
      "Epoch 14/20, Loss: 0.6942\n",
      "Epoch 15/20, Loss: 0.6806\n",
      "Epoch 16/20, Loss: 0.6940\n",
      "Epoch 17/20, Loss: 0.6789\n",
      "Epoch 18/20, Loss: 0.6847\n",
      "Epoch 19/20, Loss: 0.6794\n",
      "Epoch 20/20, Loss: 0.6638\n",
      "Test Loss: 0.6657, Test Accuracy: 0.6085\n"
     ]
    },
    {
     "name": "stderr",
     "output_type": "stream",
     "text": [
      "2025/06/18 20:15:42 WARNING mlflow.models.model: Model logged without a signature and input example. Please set `input_example` parameter when logging the model to auto infer the model signature.\n",
      "[W 2025-06-18 20:15:42,733] Trial 15 failed with parameters: {'learning_rate': 3.611765413255812e-05, 'hidden_dim': 33, 'dropout_rate': 0.4501635686581711} because of the following error: The value {'loss': 0.6657301187515259, 'accuracy': 0.6084656119346619} could not be cast to float.\n",
      "[W 2025-06-18 20:15:42,733] Trial 15 failed with value {'loss': 0.6657301187515259, 'accuracy': 0.6084656119346619}.\n"
     ]
    },
    {
     "name": "stdout",
     "output_type": "stream",
     "text": [
      "Epoch 1/20, Loss: 0.6601\n",
      "Epoch 2/20, Loss: 0.6492\n",
      "Epoch 3/20, Loss: 0.6221\n",
      "Epoch 4/20, Loss: 0.6108\n",
      "Epoch 5/20, Loss: 0.5991\n",
      "Epoch 6/20, Loss: 0.5729\n",
      "Epoch 7/20, Loss: 0.5601\n",
      "Epoch 8/20, Loss: 0.5360\n",
      "Epoch 9/20, Loss: 0.5360\n",
      "Epoch 10/20, Loss: 0.5056\n",
      "Epoch 11/20, Loss: 0.5038\n",
      "Epoch 12/20, Loss: 0.4843\n",
      "Epoch 13/20, Loss: 0.4743\n",
      "Epoch 14/20, Loss: 0.4647\n",
      "Epoch 15/20, Loss: 0.4504\n",
      "Epoch 16/20, Loss: 0.4403\n",
      "Epoch 17/20, Loss: 0.4320\n",
      "Epoch 18/20, Loss: 0.4060\n",
      "Epoch 19/20, Loss: 0.4080\n",
      "Epoch 20/20, Loss: 0.3876\n",
      "Test Loss: 0.4037, Test Accuracy: 0.8624\n"
     ]
    },
    {
     "name": "stderr",
     "output_type": "stream",
     "text": [
      "2025/06/18 20:15:53 WARNING mlflow.models.model: Model logged without a signature and input example. Please set `input_example` parameter when logging the model to auto infer the model signature.\n",
      "[W 2025-06-18 20:15:53,351] Trial 16 failed with parameters: {'learning_rate': 0.00012761483125980504, 'hidden_dim': 83, 'dropout_rate': 0.38846037187081883} because of the following error: The value {'loss': 0.40373772382736206, 'accuracy': 0.8624338507652283} could not be cast to float.\n",
      "[W 2025-06-18 20:15:53,359] Trial 16 failed with value {'loss': 0.40373772382736206, 'accuracy': 0.8624338507652283}.\n"
     ]
    },
    {
     "name": "stdout",
     "output_type": "stream",
     "text": [
      "Epoch 1/20, Loss: 0.7554\n",
      "Epoch 2/20, Loss: 0.7461\n",
      "Epoch 3/20, Loss: 0.7380\n",
      "Epoch 4/20, Loss: 0.7287\n",
      "Epoch 5/20, Loss: 0.7253\n",
      "Epoch 6/20, Loss: 0.7188\n",
      "Epoch 7/20, Loss: 0.7083\n",
      "Epoch 8/20, Loss: 0.6999\n",
      "Epoch 9/20, Loss: 0.7001\n",
      "Epoch 10/20, Loss: 0.6895\n",
      "Epoch 11/20, Loss: 0.6843\n",
      "Epoch 12/20, Loss: 0.6815\n",
      "Epoch 13/20, Loss: 0.6763\n",
      "Epoch 14/20, Loss: 0.6717\n",
      "Epoch 15/20, Loss: 0.6660\n",
      "Epoch 16/20, Loss: 0.6610\n",
      "Epoch 17/20, Loss: 0.6558\n",
      "Epoch 18/20, Loss: 0.6535\n",
      "Epoch 19/20, Loss: 0.6457\n",
      "Epoch 20/20, Loss: 0.6429\n",
      "Test Loss: 0.6453, Test Accuracy: 0.6772\n"
     ]
    },
    {
     "name": "stderr",
     "output_type": "stream",
     "text": [
      "2025/06/18 20:16:04 WARNING mlflow.models.model: Model logged without a signature and input example. Please set `input_example` parameter when logging the model to auto infer the model signature.\n",
      "[W 2025-06-18 20:16:04,289] Trial 17 failed with parameters: {'learning_rate': 2.249155292196195e-05, 'hidden_dim': 94, 'dropout_rate': 0.13703770927208175} because of the following error: The value {'loss': 0.6453174948692322, 'accuracy': 0.6772486567497253} could not be cast to float.\n",
      "[W 2025-06-18 20:16:04,289] Trial 17 failed with value {'loss': 0.6453174948692322, 'accuracy': 0.6772486567497253}.\n"
     ]
    },
    {
     "name": "stdout",
     "output_type": "stream",
     "text": [
      "Epoch 1/20, Loss: 0.6308\n",
      "Epoch 2/20, Loss: 0.5687\n",
      "Epoch 3/20, Loss: 0.4988\n",
      "Epoch 4/20, Loss: 0.4270\n",
      "Epoch 5/20, Loss: 0.3617\n",
      "Epoch 6/20, Loss: 0.3075\n",
      "Epoch 7/20, Loss: 0.2720\n",
      "Epoch 8/20, Loss: 0.2490\n",
      "Epoch 9/20, Loss: 0.2359\n",
      "Epoch 10/20, Loss: 0.2286\n",
      "Epoch 11/20, Loss: 0.2245\n",
      "Epoch 12/20, Loss: 0.2083\n",
      "Epoch 13/20, Loss: 0.2163\n",
      "Epoch 14/20, Loss: 0.2162\n",
      "Epoch 15/20, Loss: 0.2079\n",
      "Epoch 16/20, Loss: 0.2038\n",
      "Epoch 17/20, Loss: 0.2007\n",
      "Epoch 18/20, Loss: 0.1988\n",
      "Epoch 19/20, Loss: 0.1988\n",
      "Epoch 20/20, Loss: 0.2021\n",
      "Test Loss: 0.3067, Test Accuracy: 0.8571\n"
     ]
    },
    {
     "name": "stderr",
     "output_type": "stream",
     "text": [
      "2025/06/18 20:16:15 WARNING mlflow.models.model: Model logged without a signature and input example. Please set `input_example` parameter when logging the model to auto infer the model signature.\n",
      "[W 2025-06-18 20:16:15,632] Trial 18 failed with parameters: {'learning_rate': 0.0010574809551475454, 'hidden_dim': 17, 'dropout_rate': 0.08369094523444742} because of the following error: The value {'loss': 0.306656152009964, 'accuracy': 0.8571428656578064} could not be cast to float.\n",
      "[W 2025-06-18 20:16:15,632] Trial 18 failed with value {'loss': 0.306656152009964, 'accuracy': 0.8571428656578064}.\n"
     ]
    },
    {
     "name": "stdout",
     "output_type": "stream",
     "text": [
      "Epoch 1/20, Loss: 0.6846\n",
      "Epoch 2/20, Loss: 0.6561\n",
      "Epoch 3/20, Loss: 0.6510\n",
      "Epoch 4/20, Loss: 0.6300\n",
      "Epoch 5/20, Loss: 0.6125\n",
      "Epoch 6/20, Loss: 0.6122\n",
      "Epoch 7/20, Loss: 0.6022\n",
      "Epoch 8/20, Loss: 0.5856\n",
      "Epoch 9/20, Loss: 0.5770\n",
      "Epoch 10/20, Loss: 0.5599\n",
      "Epoch 11/20, Loss: 0.5485\n",
      "Epoch 12/20, Loss: 0.5358\n",
      "Epoch 13/20, Loss: 0.5306\n",
      "Epoch 14/20, Loss: 0.5205\n",
      "Epoch 15/20, Loss: 0.5079\n",
      "Epoch 16/20, Loss: 0.4972\n",
      "Epoch 17/20, Loss: 0.4852\n",
      "Epoch 18/20, Loss: 0.4732\n",
      "Epoch 19/20, Loss: 0.4550\n",
      "Epoch 20/20, Loss: 0.4545\n",
      "Test Loss: 0.4692, Test Accuracy: 0.8519\n"
     ]
    },
    {
     "name": "stderr",
     "output_type": "stream",
     "text": [
      "2025/06/18 20:16:25 WARNING mlflow.models.model: Model logged without a signature and input example. Please set `input_example` parameter when logging the model to auto infer the model signature.\n",
      "[W 2025-06-18 20:16:25,752] Trial 19 failed with parameters: {'learning_rate': 0.00015673159963126723, 'hidden_dim': 29, 'dropout_rate': 0.22440947833075836} because of the following error: The value {'loss': 0.46916496753692627, 'accuracy': 0.8518518805503845} could not be cast to float.\n",
      "[W 2025-06-18 20:16:25,752] Trial 19 failed with value {'loss': 0.46916496753692627, 'accuracy': 0.8518518805503845}.\n"
     ]
    }
   ],
   "source": [
    "import optuna\n",
    "mlflow.set_experiment(\"Machine_Failure_Prediction_Experiment\")\n",
    "study = optuna.create_study(direction='minimize')\n",
    "study.optimize(objective, n_trials=20)"
   ]
  }
 ],
 "metadata": {
  "kernelspec": {
   "display_name": "Machine_Failure_predicition",
   "language": "python",
   "name": "python3"
  },
  "language_info": {
   "codemirror_mode": {
    "name": "ipython",
    "version": 3
   },
   "file_extension": ".py",
   "mimetype": "text/x-python",
   "name": "python",
   "nbconvert_exporter": "python",
   "pygments_lexer": "ipython3",
   "version": "3.12.9"
  }
 },
 "nbformat": 4,
 "nbformat_minor": 5
}
