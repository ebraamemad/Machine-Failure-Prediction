{
 "cells": [
  {
   "cell_type": "code",
   "execution_count": 1,
   "id": "41125ab8",
   "metadata": {},
   "outputs": [
    {
     "name": "stdout",
     "output_type": "stream",
     "text": [
      "Epoch 1/20, Loss: 3.7503\n",
      "Epoch 2/20, Loss: 3.4624\n",
      "Epoch 3/20, Loss: 3.5237\n",
      "Epoch 4/20, Loss: 3.3076\n",
      "Epoch 5/20, Loss: 2.4157\n",
      "Epoch 6/20, Loss: 2.4154\n",
      "Epoch 7/20, Loss: 2.7072\n",
      "Epoch 8/20, Loss: 2.3938\n",
      "Epoch 9/20, Loss: 1.8912\n",
      "Epoch 10/20, Loss: 1.9440\n",
      "Epoch 11/20, Loss: 1.7846\n",
      "Epoch 12/20, Loss: 1.5350\n",
      "Epoch 13/20, Loss: 1.5265\n",
      "Epoch 14/20, Loss: 1.6533\n",
      "Epoch 15/20, Loss: 1.9826\n",
      "Epoch 16/20, Loss: 1.9888\n",
      "Epoch 17/20, Loss: 1.5107\n",
      "Epoch 18/20, Loss: 1.8580\n",
      "Epoch 19/20, Loss: 1.4819\n",
      "Epoch 20/20, Loss: 1.1437\n",
      "Test Loss: 1.7861, Test Accuracy: 0.8730\n"
     ]
    },
    {
     "data": {
      "text/plain": [
       "(SimpleNN(\n",
       "   (net): Sequential(\n",
       "     (0): Linear(in_features=9, out_features=32, bias=True)\n",
       "     (1): ReLU()\n",
       "     (2): Dropout(p=0.2, inplace=False)\n",
       "     (3): Linear(in_features=32, out_features=1, bias=True)\n",
       "     (4): Sigmoid()\n",
       "   )\n",
       " ),\n",
       " 0.8730158805847168,\n",
       " 1.7860684394836426)"
      ]
     },
     "execution_count": 1,
     "metadata": {},
     "output_type": "execute_result"
    }
   ],
   "source": [
    "import torch\n",
    "import torch.nn as nn\n",
    "import torch.nn.functional as F\n",
    "from torch.utils.data import DataLoader, TensorDataset\n",
    "from sklearn.model_selection import train_test_split\n",
    "from sklearn.preprocessing import StandardScaler\n",
    "import pandas as pd\n",
    "import numpy as np\n",
    "\n",
    "# قراءة البيانات\n",
    "df = pd.read_csv(r\"E:\\projects of camp\\Machine Failure Prediction\\data\\data.csv\")\n",
    "x = df.drop(columns=['fail'])  # استبدل 'target' باسم العمود الهدف عندك\n",
    "y = df['fail']\n",
    "\n",
    "# توحيد البيانات\n",
    "scaler = StandardScaler()\n",
    "x_scaled = scaler.fit_transform(x)\n",
    "#حفظscaler\n",
    "import joblib\n",
    "joblib.dump(scaler, \"scaler.pkl\")\n",
    "\n",
    "\n",
    "# تصفية القيم الأقل من 0.2\n",
    "x_scaled_df = pd.DataFrame(x_scaled, columns=x.columns)\n",
    "df_filtered = x_scaled_df[(x_scaled_df >= 0.2).all(axis=1)]\n",
    "x_filtered = df_filtered.values\n",
    "y_filtered = y[df_filtered.index].values\n",
    "\n",
    "\n",
    "\n",
    "# تقسيم البيانات\n",
    "x_train, x_test, y_train, y_test = train_test_split(x, y, test_size=0.2, random_state=42)\n",
    "\n",
    "# تحويل إلى Tensors\n",
    "x_train_tensor = torch.tensor(x_train.values, dtype=torch.float32)\n",
    "y_train_tensor = torch.tensor(y_train.values, dtype=torch.float32).unsqueeze(1)\n",
    "x_test_tensor = torch.tensor(x_test.values, dtype=torch.float32)\n",
    "y_test_tensor = torch.tensor(y_test.values, dtype=torch.float32).unsqueeze(1)\n",
    "\n",
    "train_dataset = TensorDataset(x_train_tensor, y_train_tensor)\n",
    "test_dataset = TensorDataset(x_test_tensor, y_test_tensor)\n",
    "\n",
    "train_loader = DataLoader(train_dataset, batch_size=20, shuffle=True)\n",
    "test_loader = DataLoader(test_dataset, batch_size=20)\n",
    "\n",
    "# تعريف النموذج\n",
    "class SimpleNN(nn.Module):\n",
    "    def __init__(self, input_dim,hidden_dim,dropout_rate):\n",
    "        \n",
    "        super().__init__()\n",
    "        self.net= nn.Sequential(\n",
    "            nn.Linear(input_dim, hidden_dim),\n",
    "            nn.ReLU(),\n",
    "            nn.Dropout(dropout_rate),\n",
    "            nn.Linear(hidden_dim, 1),\n",
    "            nn.Sigmoid()\n",
    "        )\n",
    "     \n",
    "    def forward(self, x):\n",
    "        x = self.net(x)\n",
    "        return x\n",
    "\n",
    "def train_model(params):\n",
    "    \n",
    "    model = SimpleNN(x_train.shape[1], params['hidden_dim'], params['dropout_rate'])\n",
    "    loss_fn = nn.BCELoss()\n",
    "    optimizer = torch.optim.Adam(model.parameters(), lr=params['learning_rate'])\n",
    "\n",
    "# التدريب\n",
    "    for epoch in range(20):\n",
    "        model.train()\n",
    "        running_loss = 0.0\n",
    "        for inputs, targets in train_loader:\n",
    "            optimizer.zero_grad()\n",
    "            outputs = model(inputs)\n",
    "            loss = loss_fn(outputs, targets)\n",
    "            loss.backward()\n",
    "            optimizer.step()\n",
    "            running_loss += loss.item()\n",
    "        print(f\"Epoch {epoch+1}/20, Loss: {running_loss/len(train_loader):.4f}\")\n",
    "# التقييم\n",
    "    model.eval()\n",
    "\n",
    "    with torch.no_grad():\n",
    "        test_pred = model(x_test_tensor)\n",
    "        test_loss = loss_fn(test_pred, y_test_tensor)\n",
    "        test_accuracy = ((test_pred > 0.5).float() == y_test_tensor).float().mean().item()\n",
    "        print(f\"Test Loss: {test_loss:.4f}, Test Accuracy: {test_accuracy:.4f}\")\n",
    "    # حفظ النموذج\n",
    "    torch.save(model.state_dict(), \"model.pth\")\n",
    "    return model, test_accuracy, test_loss.item()\n",
    "\n",
    "train_model({'learning_rate': 0.001, 'hidden_dim': 32, 'dropout_rate': 0.2})     \n",
    "# حفظ النموذج\n",
    "        \n",
    "    \n"
   ]
  },
  {
   "cell_type": "code",
   "execution_count": 3,
   "id": "6affa794",
   "metadata": {},
   "outputs": [
    {
     "name": "stdout",
     "output_type": "stream",
     "text": [
      "Epoch 1, Loss: 4.5250\n",
      "Epoch 2, Loss: 4.6829\n",
      "Epoch 3, Loss: 4.2917\n",
      "Epoch 4, Loss: 3.3844\n",
      "Epoch 5, Loss: 3.4080\n",
      "Epoch 6, Loss: 3.8799\n",
      "Epoch 7, Loss: 3.3197\n",
      "Epoch 8, Loss: 2.9960\n",
      "Epoch 9, Loss: 3.3501\n",
      "Epoch 10, Loss: 2.5274\n",
      "Epoch 11, Loss: 2.7671\n",
      "Epoch 12, Loss: 2.0924\n",
      "Epoch 13, Loss: 3.0280\n",
      "Epoch 14, Loss: 2.7977\n",
      "Epoch 15, Loss: 2.1366\n",
      "Epoch 16, Loss: 2.9659\n",
      "Epoch 17, Loss: 2.1642\n",
      "Epoch 18, Loss: 3.3132\n",
      "Epoch 19, Loss: 3.2987\n",
      "Epoch 20, Loss: 2.0859\n"
     ]
    },
    {
     "data": {
      "text/plain": [
       "['scaler.pkl']"
      ]
     },
     "execution_count": 3,
     "metadata": {},
     "output_type": "execute_result"
    }
   ],
   "source": [
    "# train.py\n",
    "import torch\n",
    "import torch.nn as nn\n",
    "from torch.utils.data import DataLoader, TensorDataset\n",
    "from sklearn.model_selection import train_test_split\n",
    "from sklearn.preprocessing import StandardScaler\n",
    "import pandas as pd\n",
    "import numpy as np\n",
    "from model import SimpleNN\n",
    "\n",
    "# قراءة البيانات\n",
    "df = pd.read_csv(\"data/data.csv\")\n",
    "x = df.drop(columns=['fail'])\n",
    "y = df['fail']\n",
    "\n",
    "# توحيد البيانات\n",
    "scaler = StandardScaler()\n",
    "x_scaled = scaler.fit_transform(x)\n",
    "#حفظscaler\n",
    "import joblib\n",
    "joblib.dump(scaler, \"scaler.pkl\")\n",
    "\n",
    "\n",
    "# تصفية القيم الأقل من 0.2\n",
    "x_scaled_df = pd.DataFrame(x_scaled, columns=x.columns)\n",
    "df_filtered = x_scaled_df[(x_scaled_df >= 0.2).all(axis=1)]\n",
    "x_filtered = df_filtered.values\n",
    "y_filtered = y[df_filtered.index].values\n",
    "\n",
    "\n",
    "\n",
    "# تقسيم البيانات\n",
    "x_train, x_test, y_train, y_test = train_test_split(x, y, test_size=0.2, random_state=42)\n",
    "\n",
    "# تحويل إلى Tensors\n",
    "x_train_tensor = torch.tensor(x_train.values, dtype=torch.float32)\n",
    "y_train_tensor = torch.tensor(y_train.values, dtype=torch.float32).unsqueeze(1)\n",
    "x_test_tensor = torch.tensor(x_test.values, dtype=torch.float32)\n",
    "y_test_tensor = torch.tensor(y_test.values, dtype=torch.float32).unsqueeze(1)\n",
    "\n",
    "train_dataset = TensorDataset(x_train_tensor, y_train_tensor)\n",
    "test_dataset = TensorDataset(x_test_tensor, y_test_tensor)\n",
    "\n",
    "train_loader = DataLoader(train_dataset, batch_size=20, shuffle=True)\n",
    "test_loader = DataLoader(test_dataset, batch_size=20)\n",
    "\n",
    "# تدريب الموديل\n",
    "input_dim = x_train.shape[1]\n",
    "hidden_dim = 32\n",
    "dropout_rate = 0.2\n",
    "model = SimpleNN(input_dim, hidden_dim, dropout_rate)\n",
    "\n",
    "loss_fn = nn.BCELoss()\n",
    "optimizer = torch.optim.Adam(model.parameters(), lr=0.001)\n",
    "\n",
    "for epoch in range(20):\n",
    "    model.train()\n",
    "    total_loss = 0\n",
    "    for inputs, targets in train_loader:\n",
    "        optimizer.zero_grad()\n",
    "        outputs = model(inputs)\n",
    "        loss = loss_fn(outputs, targets)\n",
    "        loss.backward()\n",
    "        optimizer.step()\n",
    "        total_loss += loss.item()\n",
    "    print(f\"Epoch {epoch+1}, Loss: {total_loss / len(train_loader):.4f}\")\n",
    "\n",
    "# حفظ النموذج مع المعلمات\n",
    "torch.save({\n",
    "    \"model_state\": model.state_dict(),\n",
    "    \"input_dim\": input_dim,\n",
    "    \"hidden_dim\": hidden_dim,\n",
    "    \"dropout_rate\": dropout_rate\n",
    "}, \"model.pth\")\n",
    "\n",
    "import joblib\n",
    "joblib.dump(scaler, \"scaler.pkl\")\n",
    "\n"
   ]
  },
  {
   "cell_type": "code",
   "execution_count": 4,
   "id": "16dc4c4b",
   "metadata": {},
   "outputs": [
    {
     "name": "stdout",
     "output_type": "stream",
     "text": [
      "Using device: cpu\n"
     ]
    }
   ],
   "source": [
    "device = torch.device(\"cuda\" if torch.cuda.is_available() else \"cpu\")\n",
    "print(f\"Using device: {device}\")"
   ]
  },
  {
   "cell_type": "code",
   "execution_count": 8,
   "id": "cac0edc7",
   "metadata": {},
   "outputs": [],
   "source": [
    " import mlflow\n",
    " import mlflow.pytorch\n",
    " def objective(trail):\n",
    "    params = {\n",
    "        'learning_rate': trail.suggest_float('learning_rate', 1e-5, 1e-2, log=True),\n",
    "        'hidden_dim': trail.suggest_int('hidden_dim', 16, 128),\n",
    "        'dropout_rate': trail.suggest_float('dropout_rate', 0.0, 0.5)\n",
    "    }\n",
    "    with mlflow.start_run():\n",
    "        model, accuracy, loss = train_model(params)\n",
    "        mlflow.log_params(params)\n",
    "        mlflow.log_metric('accuracy', accuracy)\n",
    "        mlflow.log_metric('loss', loss)\n",
    "        mlflow.pytorch.log_model(model, \"model\")\n",
    "    \n",
    "    \n",
    "    return {'loss': loss, 'accuracy': accuracy} "
   ]
  },
  {
   "cell_type": "code",
   "execution_count": 9,
   "id": "f7533ed3",
   "metadata": {},
   "outputs": [
    {
     "name": "stderr",
     "output_type": "stream",
     "text": [
      "2025/05/25 20:09:58 INFO mlflow.tracking.fluent: Experiment with name 'Machine_Failure_Prediction_Experiment' does not exist. Creating a new experiment.\n",
      "[I 2025-05-25 20:09:58,191] A new study created in memory with name: no-name-f2b3a99e-e84f-4d11-a720-5b12bb59c281\n"
     ]
    },
    {
     "name": "stdout",
     "output_type": "stream",
     "text": [
      "Epoch 1/20, Loss: 9.4632\n",
      "Epoch 2/20, Loss: 9.2322\n",
      "Epoch 3/20, Loss: 6.9854\n",
      "Epoch 4/20, Loss: 8.2357\n",
      "Epoch 5/20, Loss: 7.2062\n",
      "Epoch 6/20, Loss: 7.4016\n",
      "Epoch 7/20, Loss: 8.4265\n",
      "Epoch 8/20, Loss: 6.6240\n",
      "Epoch 9/20, Loss: 5.6556\n",
      "Epoch 10/20, Loss: 7.6108\n",
      "Epoch 11/20, Loss: 7.0809\n",
      "Epoch 12/20, Loss: 7.3234\n",
      "Epoch 13/20, Loss: 7.1578\n",
      "Epoch 14/20, Loss: 7.3387\n",
      "Epoch 15/20, Loss: 6.8678\n",
      "Epoch 16/20, Loss: 7.7966\n",
      "Epoch 17/20, Loss: 6.8346\n",
      "Epoch 18/20, Loss: 6.4648\n",
      "Epoch 19/20, Loss: 6.3336\n",
      "Epoch 20/20, Loss: 6.3103\n",
      "Test Loss: 3.0247, Test Accuracy: 0.6614\n"
     ]
    },
    {
     "name": "stderr",
     "output_type": "stream",
     "text": [
      "2025/05/25 20:11:01 WARNING mlflow.models.model: Model logged without a signature and input example. Please set `input_example` parameter when logging the model to auto infer the model signature.\n",
      "[W 2025-05-25 20:11:02,008] Trial 0 failed with parameters: {'learning_rate': 1.4216225635382324e-05, 'hidden_dim': 67, 'dropout_rate': 0.4308145404676525} because of the following error: The value {'loss': 3.0246710777282715, 'accuracy': 0.6613756418228149} could not be cast to float.\n",
      "[W 2025-05-25 20:11:02,009] Trial 0 failed with value {'loss': 3.0246710777282715, 'accuracy': 0.6613756418228149}.\n"
     ]
    },
    {
     "name": "stdout",
     "output_type": "stream",
     "text": [
      "Epoch 1/20, Loss: 3.9911\n",
      "Epoch 2/20, Loss: 4.2513\n",
      "Epoch 3/20, Loss: 3.8419\n",
      "Epoch 4/20, Loss: 3.5618\n",
      "Epoch 5/20, Loss: 3.7255\n",
      "Epoch 6/20, Loss: 3.6920\n",
      "Epoch 7/20, Loss: 3.8524\n",
      "Epoch 8/20, Loss: 3.9475\n",
      "Epoch 9/20, Loss: 3.6986\n",
      "Epoch 10/20, Loss: 3.9384\n",
      "Epoch 11/20, Loss: 3.7926\n",
      "Epoch 12/20, Loss: 3.0586\n",
      "Epoch 13/20, Loss: 3.2652\n",
      "Epoch 14/20, Loss: 3.8375\n",
      "Epoch 15/20, Loss: 3.1879\n",
      "Epoch 16/20, Loss: 3.0917\n",
      "Epoch 17/20, Loss: 3.2610\n",
      "Epoch 18/20, Loss: 3.2070\n",
      "Epoch 19/20, Loss: 3.5804\n",
      "Epoch 20/20, Loss: 3.7657\n",
      "Test Loss: 3.7551, Test Accuracy: 0.5926\n"
     ]
    },
    {
     "name": "stderr",
     "output_type": "stream",
     "text": [
      "2025/05/25 20:11:18 WARNING mlflow.models.model: Model logged without a signature and input example. Please set `input_example` parameter when logging the model to auto infer the model signature.\n",
      "[W 2025-05-25 20:11:18,925] Trial 1 failed with parameters: {'learning_rate': 2.432622407860758e-05, 'hidden_dim': 16, 'dropout_rate': 0.166597823943608} because of the following error: The value {'loss': 3.755086898803711, 'accuracy': 0.5925925970077515} could not be cast to float.\n",
      "[W 2025-05-25 20:11:18,926] Trial 1 failed with value {'loss': 3.755086898803711, 'accuracy': 0.5925925970077515}.\n"
     ]
    },
    {
     "name": "stdout",
     "output_type": "stream",
     "text": [
      "Epoch 1/20, Loss: 15.3853\n",
      "Epoch 2/20, Loss: 15.0796\n",
      "Epoch 3/20, Loss: 14.4673\n",
      "Epoch 4/20, Loss: 14.1432\n",
      "Epoch 5/20, Loss: 15.6587\n",
      "Epoch 6/20, Loss: 13.6135\n",
      "Epoch 7/20, Loss: 14.7291\n",
      "Epoch 8/20, Loss: 13.5981\n",
      "Epoch 9/20, Loss: 14.3174\n",
      "Epoch 10/20, Loss: 13.6618\n",
      "Epoch 11/20, Loss: 14.3688\n",
      "Epoch 12/20, Loss: 13.6608\n",
      "Epoch 13/20, Loss: 12.8870\n",
      "Epoch 14/20, Loss: 13.7854\n",
      "Epoch 15/20, Loss: 13.2411\n",
      "Epoch 16/20, Loss: 13.1612\n",
      "Epoch 17/20, Loss: 13.3249\n",
      "Epoch 18/20, Loss: 13.1264\n",
      "Epoch 19/20, Loss: 12.2038\n",
      "Epoch 20/20, Loss: 12.4011\n",
      "Test Loss: 12.1417, Test Accuracy: 0.3810\n"
     ]
    },
    {
     "name": "stderr",
     "output_type": "stream",
     "text": [
      "2025/05/25 20:11:34 WARNING mlflow.models.model: Model logged without a signature and input example. Please set `input_example` parameter when logging the model to auto infer the model signature.\n",
      "[W 2025-05-25 20:11:35,060] Trial 2 failed with parameters: {'learning_rate': 2.826220101338306e-05, 'hidden_dim': 16, 'dropout_rate': 0.24681990368990187} because of the following error: The value {'loss': 12.14169979095459, 'accuracy': 0.380952388048172} could not be cast to float.\n",
      "[W 2025-05-25 20:11:35,061] Trial 2 failed with value {'loss': 12.14169979095459, 'accuracy': 0.380952388048172}.\n"
     ]
    },
    {
     "name": "stdout",
     "output_type": "stream",
     "text": [
      "Epoch 1/20, Loss: 8.6206\n",
      "Epoch 2/20, Loss: 7.0638\n",
      "Epoch 3/20, Loss: 6.1183\n",
      "Epoch 4/20, Loss: 5.4283\n",
      "Epoch 5/20, Loss: 5.5086\n",
      "Epoch 6/20, Loss: 6.0545\n",
      "Epoch 7/20, Loss: 5.7746\n",
      "Epoch 8/20, Loss: 4.8843\n",
      "Epoch 9/20, Loss: 4.8697\n",
      "Epoch 10/20, Loss: 4.4640\n",
      "Epoch 11/20, Loss: 4.8007\n",
      "Epoch 12/20, Loss: 4.8949\n",
      "Epoch 13/20, Loss: 4.2381\n",
      "Epoch 14/20, Loss: 4.2123\n",
      "Epoch 15/20, Loss: 3.4438\n",
      "Epoch 16/20, Loss: 4.2323\n",
      "Epoch 17/20, Loss: 3.7140\n",
      "Epoch 18/20, Loss: 4.7409\n",
      "Epoch 19/20, Loss: 3.9167\n",
      "Epoch 20/20, Loss: 3.3446\n",
      "Test Loss: 3.5250, Test Accuracy: 0.7249\n"
     ]
    },
    {
     "name": "stderr",
     "output_type": "stream",
     "text": [
      "2025/05/25 20:11:48 WARNING mlflow.models.model: Model logged without a signature and input example. Please set `input_example` parameter when logging the model to auto infer the model signature.\n",
      "[W 2025-05-25 20:11:48,677] Trial 3 failed with parameters: {'learning_rate': 0.0003198072885239887, 'hidden_dim': 78, 'dropout_rate': 0.44235205562946195} because of the following error: The value {'loss': 3.525010108947754, 'accuracy': 0.7248677015304565} could not be cast to float.\n",
      "[W 2025-05-25 20:11:48,678] Trial 3 failed with value {'loss': 3.525010108947754, 'accuracy': 0.7248677015304565}.\n"
     ]
    },
    {
     "name": "stdout",
     "output_type": "stream",
     "text": [
      "Epoch 1/20, Loss: 3.3731\n",
      "Epoch 2/20, Loss: 2.5499\n",
      "Epoch 3/20, Loss: 2.5253\n",
      "Epoch 4/20, Loss: 1.8198\n",
      "Epoch 5/20, Loss: 1.9790\n",
      "Epoch 6/20, Loss: 2.6574\n",
      "Epoch 7/20, Loss: 1.6801\n",
      "Epoch 8/20, Loss: 1.9983\n",
      "Epoch 9/20, Loss: 1.6530\n",
      "Epoch 10/20, Loss: 1.7379\n",
      "Epoch 11/20, Loss: 1.9823\n",
      "Epoch 12/20, Loss: 2.2362\n",
      "Epoch 13/20, Loss: 1.8616\n",
      "Epoch 14/20, Loss: 2.2595\n",
      "Epoch 15/20, Loss: 1.9599\n",
      "Epoch 16/20, Loss: 4.5835\n",
      "Epoch 17/20, Loss: 8.3392\n",
      "Epoch 18/20, Loss: 3.8123\n",
      "Epoch 19/20, Loss: 2.2236\n",
      "Epoch 20/20, Loss: 2.1317\n",
      "Test Loss: 2.3029, Test Accuracy: 0.8730\n"
     ]
    },
    {
     "name": "stderr",
     "output_type": "stream",
     "text": [
      "2025/05/25 20:12:02 WARNING mlflow.models.model: Model logged without a signature and input example. Please set `input_example` parameter when logging the model to auto infer the model signature.\n",
      "[W 2025-05-25 20:12:02,662] Trial 4 failed with parameters: {'learning_rate': 0.001271647754981697, 'hidden_dim': 118, 'dropout_rate': 0.04072590203537457} because of the following error: The value {'loss': 2.3029003143310547, 'accuracy': 0.8730158805847168} could not be cast to float.\n",
      "[W 2025-05-25 20:12:02,662] Trial 4 failed with value {'loss': 2.3029003143310547, 'accuracy': 0.8730158805847168}.\n"
     ]
    },
    {
     "name": "stdout",
     "output_type": "stream",
     "text": [
      "Epoch 1/20, Loss: 8.7134\n",
      "Epoch 2/20, Loss: 2.0555\n",
      "Epoch 3/20, Loss: 1.7867\n",
      "Epoch 4/20, Loss: 2.8389\n",
      "Epoch 5/20, Loss: 1.7350\n",
      "Epoch 6/20, Loss: 2.4008\n",
      "Epoch 7/20, Loss: 1.5381\n",
      "Epoch 8/20, Loss: 2.0938\n",
      "Epoch 9/20, Loss: 1.9408\n",
      "Epoch 10/20, Loss: 2.9252\n",
      "Epoch 11/20, Loss: 1.9410\n",
      "Epoch 12/20, Loss: 3.6252\n",
      "Epoch 13/20, Loss: 1.6212\n",
      "Epoch 14/20, Loss: 1.9915\n",
      "Epoch 15/20, Loss: 1.6273\n",
      "Epoch 16/20, Loss: 2.6603\n",
      "Epoch 17/20, Loss: 1.7311\n",
      "Epoch 18/20, Loss: 1.8595\n",
      "Epoch 19/20, Loss: 2.3418\n",
      "Epoch 20/20, Loss: 1.8214\n",
      "Test Loss: 2.8380, Test Accuracy: 0.8254\n"
     ]
    },
    {
     "name": "stderr",
     "output_type": "stream",
     "text": [
      "2025/05/25 20:12:16 WARNING mlflow.models.model: Model logged without a signature and input example. Please set `input_example` parameter when logging the model to auto infer the model signature.\n",
      "[W 2025-05-25 20:12:16,417] Trial 5 failed with parameters: {'learning_rate': 0.0010679689054085924, 'hidden_dim': 53, 'dropout_rate': 0.0441317707432467} because of the following error: The value {'loss': 2.8379838466644287, 'accuracy': 0.8253968358039856} could not be cast to float.\n",
      "[W 2025-05-25 20:12:16,418] Trial 5 failed with value {'loss': 2.8379838466644287, 'accuracy': 0.8253968358039856}.\n"
     ]
    },
    {
     "name": "stdout",
     "output_type": "stream",
     "text": [
      "Epoch 1/20, Loss: 22.4716\n",
      "Epoch 2/20, Loss: 14.0449\n",
      "Epoch 3/20, Loss: 8.9329\n",
      "Epoch 4/20, Loss: 7.0858\n",
      "Epoch 5/20, Loss: 6.2342\n",
      "Epoch 6/20, Loss: 4.7899\n",
      "Epoch 7/20, Loss: 5.2240\n",
      "Epoch 8/20, Loss: 5.0326\n",
      "Epoch 9/20, Loss: 5.6986\n",
      "Epoch 10/20, Loss: 4.8878\n",
      "Epoch 11/20, Loss: 4.7677\n",
      "Epoch 12/20, Loss: 6.0217\n",
      "Epoch 13/20, Loss: 5.2677\n",
      "Epoch 14/20, Loss: 4.7216\n",
      "Epoch 15/20, Loss: 5.5965\n",
      "Epoch 16/20, Loss: 3.5031\n",
      "Epoch 17/20, Loss: 5.0004\n",
      "Epoch 18/20, Loss: 3.3393\n",
      "Epoch 19/20, Loss: 3.5545\n",
      "Epoch 20/20, Loss: 4.3560\n",
      "Test Loss: 3.0625, Test Accuracy: 0.7989\n"
     ]
    },
    {
     "name": "stderr",
     "output_type": "stream",
     "text": [
      "2025/05/25 20:12:30 WARNING mlflow.models.model: Model logged without a signature and input example. Please set `input_example` parameter when logging the model to auto infer the model signature.\n",
      "[W 2025-05-25 20:12:30,768] Trial 6 failed with parameters: {'learning_rate': 0.0003289889832664413, 'hidden_dim': 103, 'dropout_rate': 0.359609360005034} because of the following error: The value {'loss': 3.062466621398926, 'accuracy': 0.7989417910575867} could not be cast to float.\n",
      "[W 2025-05-25 20:12:30,771] Trial 6 failed with value {'loss': 3.062466621398926, 'accuracy': 0.7989417910575867}.\n"
     ]
    },
    {
     "name": "stdout",
     "output_type": "stream",
     "text": [
      "Epoch 1/20, Loss: 3.0895\n",
      "Epoch 2/20, Loss: 2.6363\n",
      "Epoch 3/20, Loss: 3.0267\n",
      "Epoch 4/20, Loss: 3.0400\n",
      "Epoch 5/20, Loss: 2.3964\n",
      "Epoch 6/20, Loss: 2.3115\n",
      "Epoch 7/20, Loss: 2.3122\n",
      "Epoch 8/20, Loss: 2.4067\n",
      "Epoch 9/20, Loss: 2.1826\n",
      "Epoch 10/20, Loss: 2.1898\n",
      "Epoch 11/20, Loss: 2.2321\n",
      "Epoch 12/20, Loss: 2.1366\n",
      "Epoch 13/20, Loss: 2.2499\n",
      "Epoch 14/20, Loss: 2.5648\n",
      "Epoch 15/20, Loss: 2.0405\n",
      "Epoch 16/20, Loss: 2.4162\n",
      "Epoch 17/20, Loss: 1.8357\n",
      "Epoch 18/20, Loss: 2.1488\n",
      "Epoch 19/20, Loss: 1.8593\n",
      "Epoch 20/20, Loss: 1.7510\n",
      "Test Loss: 1.8566, Test Accuracy: 0.8466\n"
     ]
    },
    {
     "name": "stderr",
     "output_type": "stream",
     "text": [
      "2025/05/25 20:12:44 WARNING mlflow.models.model: Model logged without a signature and input example. Please set `input_example` parameter when logging the model to auto infer the model signature.\n",
      "[W 2025-05-25 20:12:44,723] Trial 7 failed with parameters: {'learning_rate': 0.0003387909816451565, 'hidden_dim': 92, 'dropout_rate': 0.06983019687868319} because of the following error: The value {'loss': 1.856637954711914, 'accuracy': 0.8465608358383179} could not be cast to float.\n",
      "[W 2025-05-25 20:12:44,725] Trial 7 failed with value {'loss': 1.856637954711914, 'accuracy': 0.8465608358383179}.\n"
     ]
    },
    {
     "name": "stdout",
     "output_type": "stream",
     "text": [
      "Epoch 1/20, Loss: 9.9594\n",
      "Epoch 2/20, Loss: 5.6143\n",
      "Epoch 3/20, Loss: 6.5780\n",
      "Epoch 4/20, Loss: 5.2016\n",
      "Epoch 5/20, Loss: 6.8724\n",
      "Epoch 6/20, Loss: 7.4637\n",
      "Epoch 7/20, Loss: 4.7694\n",
      "Epoch 8/20, Loss: 5.3050\n",
      "Epoch 9/20, Loss: 5.9089\n",
      "Epoch 10/20, Loss: 4.8775\n",
      "Epoch 11/20, Loss: 6.1499\n",
      "Epoch 12/20, Loss: 4.1699\n",
      "Epoch 13/20, Loss: 5.7966\n",
      "Epoch 14/20, Loss: 5.2105\n",
      "Epoch 15/20, Loss: 3.9797\n",
      "Epoch 16/20, Loss: 3.1637\n",
      "Epoch 17/20, Loss: 2.8894\n",
      "Epoch 18/20, Loss: 2.7438\n",
      "Epoch 19/20, Loss: 4.1767\n",
      "Epoch 20/20, Loss: 5.3855\n",
      "Test Loss: 6.3319, Test Accuracy: 0.7143\n"
     ]
    },
    {
     "name": "stderr",
     "output_type": "stream",
     "text": [
      "2025/05/25 20:12:57 WARNING mlflow.models.model: Model logged without a signature and input example. Please set `input_example` parameter when logging the model to auto infer the model signature.\n",
      "[W 2025-05-25 20:12:57,837] Trial 8 failed with parameters: {'learning_rate': 0.0007081475331935171, 'hidden_dim': 124, 'dropout_rate': 0.4378172139701783} because of the following error: The value {'loss': 6.331872940063477, 'accuracy': 0.7142857313156128} could not be cast to float.\n",
      "[W 2025-05-25 20:12:57,839] Trial 8 failed with value {'loss': 6.331872940063477, 'accuracy': 0.7142857313156128}.\n"
     ]
    },
    {
     "name": "stdout",
     "output_type": "stream",
     "text": [
      "Epoch 1/20, Loss: 5.7806\n",
      "Epoch 2/20, Loss: 6.2475\n",
      "Epoch 3/20, Loss: 5.6561\n",
      "Epoch 4/20, Loss: 5.6392\n",
      "Epoch 5/20, Loss: 6.6695\n",
      "Epoch 6/20, Loss: 6.4434\n",
      "Epoch 7/20, Loss: 6.5396\n",
      "Epoch 8/20, Loss: 6.6982\n",
      "Epoch 9/20, Loss: 6.5249\n",
      "Epoch 10/20, Loss: 6.2517\n",
      "Epoch 11/20, Loss: 5.7188\n",
      "Epoch 12/20, Loss: 5.8450\n",
      "Epoch 13/20, Loss: 6.8876\n",
      "Epoch 14/20, Loss: 4.9779\n",
      "Epoch 15/20, Loss: 5.9056\n",
      "Epoch 16/20, Loss: 6.4123\n",
      "Epoch 17/20, Loss: 5.5648\n",
      "Epoch 18/20, Loss: 5.4615\n",
      "Epoch 19/20, Loss: 5.6084\n",
      "Epoch 20/20, Loss: 5.6321\n",
      "Test Loss: 3.2542, Test Accuracy: 0.6085\n"
     ]
    },
    {
     "name": "stderr",
     "output_type": "stream",
     "text": [
      "2025/05/25 20:13:10 WARNING mlflow.models.model: Model logged without a signature and input example. Please set `input_example` parameter when logging the model to auto infer the model signature.\n",
      "[W 2025-05-25 20:13:10,787] Trial 9 failed with parameters: {'learning_rate': 5.148529062263848e-05, 'hidden_dim': 82, 'dropout_rate': 0.46745847148131564} because of the following error: The value {'loss': 3.2541542053222656, 'accuracy': 0.6084656119346619} could not be cast to float.\n",
      "[W 2025-05-25 20:13:10,789] Trial 9 failed with value {'loss': 3.2541542053222656, 'accuracy': 0.6084656119346619}.\n"
     ]
    },
    {
     "name": "stdout",
     "output_type": "stream",
     "text": [
      "Epoch 1/20, Loss: 13.4281\n",
      "Epoch 2/20, Loss: 8.4846\n",
      "Epoch 3/20, Loss: 4.8147\n",
      "Epoch 4/20, Loss: 3.1254\n",
      "Epoch 5/20, Loss: 3.8102\n",
      "Epoch 6/20, Loss: 4.1717\n",
      "Epoch 7/20, Loss: 2.8894\n",
      "Epoch 8/20, Loss: 3.5633\n",
      "Epoch 9/20, Loss: 2.8193\n",
      "Epoch 10/20, Loss: 3.0919\n",
      "Epoch 11/20, Loss: 2.7521\n",
      "Epoch 12/20, Loss: 2.6078\n",
      "Epoch 13/20, Loss: 2.4230\n",
      "Epoch 14/20, Loss: 2.3165\n",
      "Epoch 15/20, Loss: 3.0711\n",
      "Epoch 16/20, Loss: 3.4375\n",
      "Epoch 17/20, Loss: 2.8541\n",
      "Epoch 18/20, Loss: 2.8905\n",
      "Epoch 19/20, Loss: 2.4863\n",
      "Epoch 20/20, Loss: 2.8105\n",
      "Test Loss: 2.5389, Test Accuracy: 0.6825\n"
     ]
    },
    {
     "name": "stderr",
     "output_type": "stream",
     "text": [
      "2025/05/25 20:13:24 WARNING mlflow.models.model: Model logged without a signature and input example. Please set `input_example` parameter when logging the model to auto infer the model signature.\n",
      "[W 2025-05-25 20:13:24,383] Trial 10 failed with parameters: {'learning_rate': 0.00012351862181125316, 'hidden_dim': 92, 'dropout_rate': 0.11969402361885795} because of the following error: The value {'loss': 2.5389139652252197, 'accuracy': 0.682539701461792} could not be cast to float.\n",
      "[W 2025-05-25 20:13:24,384] Trial 10 failed with value {'loss': 2.5389139652252197, 'accuracy': 0.682539701461792}.\n"
     ]
    },
    {
     "name": "stdout",
     "output_type": "stream",
     "text": [
      "Epoch 1/20, Loss: 5.9904\n",
      "Epoch 2/20, Loss: 4.7148\n",
      "Epoch 3/20, Loss: 4.1798\n",
      "Epoch 4/20, Loss: 3.5172\n",
      "Epoch 5/20, Loss: 4.6551\n",
      "Epoch 6/20, Loss: 3.7281\n",
      "Epoch 7/20, Loss: 4.3945\n",
      "Epoch 8/20, Loss: 3.7552\n",
      "Epoch 9/20, Loss: 4.0270\n",
      "Epoch 10/20, Loss: 3.1075\n",
      "Epoch 11/20, Loss: 2.8042\n",
      "Epoch 12/20, Loss: 2.4514\n",
      "Epoch 13/20, Loss: 1.6285\n",
      "Epoch 14/20, Loss: 2.0934\n",
      "Epoch 15/20, Loss: 2.3084\n",
      "Epoch 16/20, Loss: 1.8723\n",
      "Epoch 17/20, Loss: 1.6019\n",
      "Epoch 18/20, Loss: 2.2633\n",
      "Epoch 19/20, Loss: 1.4498\n",
      "Epoch 20/20, Loss: 2.6679\n",
      "Test Loss: 1.2154, Test Accuracy: 0.8624\n"
     ]
    },
    {
     "name": "stderr",
     "output_type": "stream",
     "text": [
      "2025/05/25 20:13:37 WARNING mlflow.models.model: Model logged without a signature and input example. Please set `input_example` parameter when logging the model to auto infer the model signature.\n",
      "[W 2025-05-25 20:13:38,030] Trial 11 failed with parameters: {'learning_rate': 0.001738512995172237, 'hidden_dim': 52, 'dropout_rate': 0.3889256508260042} because of the following error: The value {'loss': 1.2154457569122314, 'accuracy': 0.8624338507652283} could not be cast to float.\n",
      "[W 2025-05-25 20:13:38,031] Trial 11 failed with value {'loss': 1.2154457569122314, 'accuracy': 0.8624338507652283}.\n"
     ]
    },
    {
     "name": "stdout",
     "output_type": "stream",
     "text": [
      "Epoch 1/20, Loss: 4.5447\n",
      "Epoch 2/20, Loss: 4.5908\n",
      "Epoch 3/20, Loss: 4.1603\n",
      "Epoch 4/20, Loss: 4.1226\n",
      "Epoch 5/20, Loss: 3.5187\n",
      "Epoch 6/20, Loss: 3.7395\n",
      "Epoch 7/20, Loss: 3.9566\n",
      "Epoch 8/20, Loss: 4.1074\n",
      "Epoch 9/20, Loss: 3.6589\n",
      "Epoch 10/20, Loss: 3.7372\n",
      "Epoch 11/20, Loss: 3.6180\n",
      "Epoch 12/20, Loss: 3.8199\n",
      "Epoch 13/20, Loss: 3.5576\n",
      "Epoch 14/20, Loss: 3.5198\n",
      "Epoch 15/20, Loss: 3.2978\n",
      "Epoch 16/20, Loss: 3.3619\n",
      "Epoch 17/20, Loss: 3.6925\n",
      "Epoch 18/20, Loss: 3.4039\n",
      "Epoch 19/20, Loss: 3.4361\n",
      "Epoch 20/20, Loss: 3.4182\n",
      "Test Loss: 3.8065, Test Accuracy: 0.5820\n"
     ]
    },
    {
     "name": "stderr",
     "output_type": "stream",
     "text": [
      "2025/05/25 20:13:49 WARNING mlflow.models.model: Model logged without a signature and input example. Please set `input_example` parameter when logging the model to auto infer the model signature.\n",
      "[W 2025-05-25 20:13:49,745] Trial 12 failed with parameters: {'learning_rate': 4.163768698068273e-05, 'hidden_dim': 86, 'dropout_rate': 0.20434188012322996} because of the following error: The value {'loss': 3.806462049484253, 'accuracy': 0.5820105671882629} could not be cast to float.\n",
      "[W 2025-05-25 20:13:49,747] Trial 12 failed with value {'loss': 3.806462049484253, 'accuracy': 0.5820105671882629}.\n"
     ]
    },
    {
     "name": "stdout",
     "output_type": "stream",
     "text": [
      "Epoch 1/20, Loss: 6.1265\n",
      "Epoch 2/20, Loss: 5.6784\n",
      "Epoch 3/20, Loss: 5.5110\n",
      "Epoch 4/20, Loss: 5.8639\n",
      "Epoch 5/20, Loss: 4.7106\n",
      "Epoch 6/20, Loss: 5.1035\n",
      "Epoch 7/20, Loss: 5.6384\n",
      "Epoch 8/20, Loss: 4.4902\n",
      "Epoch 9/20, Loss: 4.8148\n",
      "Epoch 10/20, Loss: 4.2763\n",
      "Epoch 11/20, Loss: 5.2351\n",
      "Epoch 12/20, Loss: 5.1041\n",
      "Epoch 13/20, Loss: 4.0981\n",
      "Epoch 14/20, Loss: 5.0493\n",
      "Epoch 15/20, Loss: 5.0826\n",
      "Epoch 16/20, Loss: 5.2024\n",
      "Epoch 17/20, Loss: 4.2710\n",
      "Epoch 18/20, Loss: 4.2630\n",
      "Epoch 19/20, Loss: 3.6239\n",
      "Epoch 20/20, Loss: 4.0492\n",
      "Test Loss: 3.4300, Test Accuracy: 0.7566\n"
     ]
    },
    {
     "name": "stderr",
     "output_type": "stream",
     "text": [
      "2025/05/25 20:14:05 WARNING mlflow.models.model: Model logged without a signature and input example. Please set `input_example` parameter when logging the model to auto infer the model signature.\n",
      "[W 2025-05-25 20:14:05,241] Trial 13 failed with parameters: {'learning_rate': 0.00012376292272254174, 'hidden_dim': 34, 'dropout_rate': 0.3717867076335265} because of the following error: The value {'loss': 3.4299583435058594, 'accuracy': 0.7566137313842773} could not be cast to float.\n",
      "[W 2025-05-25 20:14:05,242] Trial 13 failed with value {'loss': 3.4299583435058594, 'accuracy': 0.7566137313842773}.\n"
     ]
    },
    {
     "name": "stdout",
     "output_type": "stream",
     "text": [
      "Epoch 1/20, Loss: 7.5829\n",
      "Epoch 2/20, Loss: 6.1635\n",
      "Epoch 3/20, Loss: 3.9894\n",
      "Epoch 4/20, Loss: 3.6411\n",
      "Epoch 5/20, Loss: 3.0599\n",
      "Epoch 6/20, Loss: 2.8357\n",
      "Epoch 7/20, Loss: 2.5150\n",
      "Epoch 8/20, Loss: 2.3276\n",
      "Epoch 9/20, Loss: 1.9923\n",
      "Epoch 10/20, Loss: 2.0880\n",
      "Epoch 11/20, Loss: 2.0151\n",
      "Epoch 12/20, Loss: 2.4865\n",
      "Epoch 13/20, Loss: 2.9249\n",
      "Epoch 14/20, Loss: 2.8094\n",
      "Epoch 15/20, Loss: 1.8216\n",
      "Epoch 16/20, Loss: 1.8926\n",
      "Epoch 17/20, Loss: 2.3789\n",
      "Epoch 18/20, Loss: 2.2512\n",
      "Epoch 19/20, Loss: 1.9913\n",
      "Epoch 20/20, Loss: 2.3114\n",
      "Test Loss: 2.0710, Test Accuracy: 0.8466\n"
     ]
    },
    {
     "name": "stderr",
     "output_type": "stream",
     "text": [
      "2025/05/25 20:14:18 WARNING mlflow.models.model: Model logged without a signature and input example. Please set `input_example` parameter when logging the model to auto infer the model signature.\n",
      "[W 2025-05-25 20:14:18,597] Trial 14 failed with parameters: {'learning_rate': 0.0010581635290908158, 'hidden_dim': 69, 'dropout_rate': 0.177443826959633} because of the following error: The value {'loss': 2.070981025695801, 'accuracy': 0.8465608358383179} could not be cast to float.\n",
      "[W 2025-05-25 20:14:18,598] Trial 14 failed with value {'loss': 2.070981025695801, 'accuracy': 0.8465608358383179}.\n"
     ]
    },
    {
     "name": "stdout",
     "output_type": "stream",
     "text": [
      "Epoch 1/20, Loss: 3.1026\n",
      "Epoch 2/20, Loss: 3.1028\n",
      "Epoch 3/20, Loss: 4.3606\n",
      "Epoch 4/20, Loss: 1.8695\n",
      "Epoch 5/20, Loss: 2.2160\n",
      "Epoch 6/20, Loss: 2.2764\n",
      "Epoch 7/20, Loss: 2.9501\n",
      "Epoch 8/20, Loss: 1.8471\n",
      "Epoch 9/20, Loss: 1.8553\n",
      "Epoch 10/20, Loss: 1.7622\n",
      "Epoch 11/20, Loss: 2.0297\n",
      "Epoch 12/20, Loss: 1.8860\n",
      "Epoch 13/20, Loss: 1.2340\n",
      "Epoch 14/20, Loss: 1.3842\n",
      "Epoch 15/20, Loss: 1.1952\n",
      "Epoch 16/20, Loss: 1.5453\n",
      "Epoch 17/20, Loss: 1.8841\n",
      "Epoch 18/20, Loss: 2.2578\n",
      "Epoch 19/20, Loss: 1.8660\n",
      "Epoch 20/20, Loss: 1.4294\n",
      "Test Loss: 1.0470, Test Accuracy: 0.8677\n"
     ]
    },
    {
     "name": "stderr",
     "output_type": "stream",
     "text": [
      "2025/05/25 20:14:31 WARNING mlflow.models.model: Model logged without a signature and input example. Please set `input_example` parameter when logging the model to auto infer the model signature.\n",
      "[W 2025-05-25 20:14:31,121] Trial 15 failed with parameters: {'learning_rate': 0.0017724313570925136, 'hidden_dim': 22, 'dropout_rate': 0.12824599906749107} because of the following error: The value {'loss': 1.0470259189605713, 'accuracy': 0.8677248954772949} could not be cast to float.\n",
      "[W 2025-05-25 20:14:31,121] Trial 15 failed with value {'loss': 1.0470259189605713, 'accuracy': 0.8677248954772949}.\n"
     ]
    },
    {
     "name": "stdout",
     "output_type": "stream",
     "text": [
      "Epoch 1/20, Loss: 3.0183\n",
      "Epoch 2/20, Loss: 3.1129\n",
      "Epoch 3/20, Loss: 3.0652\n",
      "Epoch 4/20, Loss: 3.0562\n",
      "Epoch 5/20, Loss: 2.7719\n",
      "Epoch 6/20, Loss: 2.9597\n",
      "Epoch 7/20, Loss: 2.6062\n",
      "Epoch 8/20, Loss: 2.1929\n",
      "Epoch 9/20, Loss: 2.3652\n",
      "Epoch 10/20, Loss: 3.3341\n",
      "Epoch 11/20, Loss: 2.5274\n",
      "Epoch 12/20, Loss: 2.1930\n",
      "Epoch 13/20, Loss: 2.6052\n",
      "Epoch 14/20, Loss: 2.0858\n",
      "Epoch 15/20, Loss: 2.3986\n",
      "Epoch 16/20, Loss: 2.1601\n",
      "Epoch 17/20, Loss: 2.5397\n",
      "Epoch 18/20, Loss: 2.0100\n",
      "Epoch 19/20, Loss: 2.0870\n",
      "Epoch 20/20, Loss: 2.1670\n",
      "Test Loss: 2.3077, Test Accuracy: 0.8466\n"
     ]
    },
    {
     "name": "stderr",
     "output_type": "stream",
     "text": [
      "2025/05/25 20:14:43 WARNING mlflow.models.model: Model logged without a signature and input example. Please set `input_example` parameter when logging the model to auto infer the model signature.\n",
      "[W 2025-05-25 20:14:43,548] Trial 16 failed with parameters: {'learning_rate': 0.0003094978068082945, 'hidden_dim': 59, 'dropout_rate': 0.09013163956643883} because of the following error: The value {'loss': 2.3077499866485596, 'accuracy': 0.8465608358383179} could not be cast to float.\n",
      "[W 2025-05-25 20:14:43,549] Trial 16 failed with value {'loss': 2.3077499866485596, 'accuracy': 0.8465608358383179}.\n"
     ]
    },
    {
     "name": "stdout",
     "output_type": "stream",
     "text": [
      "Epoch 1/20, Loss: 3.8010\n",
      "Epoch 2/20, Loss: 3.2899\n",
      "Epoch 3/20, Loss: 3.5522\n",
      "Epoch 4/20, Loss: 3.4019\n",
      "Epoch 5/20, Loss: 3.3171\n",
      "Epoch 6/20, Loss: 3.1342\n",
      "Epoch 7/20, Loss: 2.7041\n",
      "Epoch 8/20, Loss: 3.4382\n",
      "Epoch 9/20, Loss: 3.1379\n",
      "Epoch 10/20, Loss: 3.5036\n",
      "Epoch 11/20, Loss: 2.7483\n",
      "Epoch 12/20, Loss: 3.7449\n",
      "Epoch 13/20, Loss: 2.7047\n",
      "Epoch 14/20, Loss: 3.4820\n",
      "Epoch 15/20, Loss: 3.2208\n",
      "Epoch 16/20, Loss: 3.1967\n",
      "Epoch 17/20, Loss: 3.3507\n",
      "Epoch 18/20, Loss: 2.7561\n",
      "Epoch 19/20, Loss: 1.9989\n",
      "Epoch 20/20, Loss: 2.7983\n",
      "Test Loss: 2.1433, Test Accuracy: 0.8571\n"
     ]
    },
    {
     "name": "stderr",
     "output_type": "stream",
     "text": [
      "2025/05/25 20:14:57 WARNING mlflow.models.model: Model logged without a signature and input example. Please set `input_example` parameter when logging the model to auto infer the model signature.\n",
      "[W 2025-05-25 20:14:58,086] Trial 17 failed with parameters: {'learning_rate': 0.0002521378039173443, 'hidden_dim': 74, 'dropout_rate': 0.14826512704875877} because of the following error: The value {'loss': 2.1432838439941406, 'accuracy': 0.8571428656578064} could not be cast to float.\n",
      "[W 2025-05-25 20:14:58,086] Trial 17 failed with value {'loss': 2.1432838439941406, 'accuracy': 0.8571428656578064}.\n"
     ]
    },
    {
     "name": "stdout",
     "output_type": "stream",
     "text": [
      "Epoch 1/20, Loss: 9.2663\n",
      "Epoch 2/20, Loss: 9.9780\n",
      "Epoch 3/20, Loss: 8.1318\n",
      "Epoch 4/20, Loss: 6.2704\n",
      "Epoch 5/20, Loss: 4.9588\n",
      "Epoch 6/20, Loss: 6.2298\n",
      "Epoch 7/20, Loss: 5.5161\n",
      "Epoch 8/20, Loss: 3.7690\n",
      "Epoch 9/20, Loss: 5.3276\n",
      "Epoch 10/20, Loss: 4.2179\n",
      "Epoch 11/20, Loss: 3.4648\n",
      "Epoch 12/20, Loss: 3.4000\n",
      "Epoch 13/20, Loss: 4.1328\n",
      "Epoch 14/20, Loss: 4.0959\n",
      "Epoch 15/20, Loss: 3.2589\n",
      "Epoch 16/20, Loss: 3.0871\n",
      "Epoch 17/20, Loss: 2.8795\n",
      "Epoch 18/20, Loss: 3.5294\n",
      "Epoch 19/20, Loss: 4.3471\n",
      "Epoch 20/20, Loss: 3.2706\n",
      "Test Loss: 3.2848, Test Accuracy: 0.8307\n"
     ]
    },
    {
     "name": "stderr",
     "output_type": "stream",
     "text": [
      "2025/05/25 20:15:09 WARNING mlflow.models.model: Model logged without a signature and input example. Please set `input_example` parameter when logging the model to auto infer the model signature.\n",
      "[W 2025-05-25 20:15:09,745] Trial 18 failed with parameters: {'learning_rate': 0.0006250076825899478, 'hidden_dim': 122, 'dropout_rate': 0.45942388910746573} because of the following error: The value {'loss': 3.2847952842712402, 'accuracy': 0.8306878209114075} could not be cast to float.\n",
      "[W 2025-05-25 20:15:09,745] Trial 18 failed with value {'loss': 3.2847952842712402, 'accuracy': 0.8306878209114075}.\n"
     ]
    },
    {
     "name": "stdout",
     "output_type": "stream",
     "text": [
      "Epoch 1/20, Loss: 7.5853\n",
      "Epoch 2/20, Loss: 5.4854\n",
      "Epoch 3/20, Loss: 4.6514\n",
      "Epoch 4/20, Loss: 4.8103\n",
      "Epoch 5/20, Loss: 3.5128\n",
      "Epoch 6/20, Loss: 4.5341\n",
      "Epoch 7/20, Loss: 4.1921\n",
      "Epoch 8/20, Loss: 4.5984\n",
      "Epoch 9/20, Loss: 5.0723\n",
      "Epoch 10/20, Loss: 3.2137\n",
      "Epoch 11/20, Loss: 3.9365\n",
      "Epoch 12/20, Loss: 3.8625\n",
      "Epoch 13/20, Loss: 3.8962\n",
      "Epoch 14/20, Loss: 3.9362\n",
      "Epoch 15/20, Loss: 3.8116\n",
      "Epoch 16/20, Loss: 3.4768\n",
      "Epoch 17/20, Loss: 2.5601\n",
      "Epoch 18/20, Loss: 2.5133\n",
      "Epoch 19/20, Loss: 2.4715\n",
      "Epoch 20/20, Loss: 2.4390\n",
      "Test Loss: 2.1005, Test Accuracy: 0.8466\n"
     ]
    },
    {
     "name": "stderr",
     "output_type": "stream",
     "text": [
      "2025/05/25 20:15:21 WARNING mlflow.models.model: Model logged without a signature and input example. Please set `input_example` parameter when logging the model to auto infer the model signature.\n",
      "[W 2025-05-25 20:15:21,623] Trial 19 failed with parameters: {'learning_rate': 0.0008360583758808415, 'hidden_dim': 18, 'dropout_rate': 0.23967278060008024} because of the following error: The value {'loss': 2.1005446910858154, 'accuracy': 0.8465608358383179} could not be cast to float.\n",
      "[W 2025-05-25 20:15:21,623] Trial 19 failed with value {'loss': 2.1005446910858154, 'accuracy': 0.8465608358383179}.\n"
     ]
    }
   ],
   "source": [
    "import optuna\n",
    "mlflow.set_experiment(\"Machine_Failure_Prediction_Experiment\")\n",
    "study = optuna.create_study(direction='minimize')\n",
    "study.optimize(objective, n_trials=20)"
   ]
  }
 ],
 "metadata": {
  "kernelspec": {
   "display_name": "Machine_Failure_predicition",
   "language": "python",
   "name": "python3"
  },
  "language_info": {
   "codemirror_mode": {
    "name": "ipython",
    "version": 3
   },
   "file_extension": ".py",
   "mimetype": "text/x-python",
   "name": "python",
   "nbconvert_exporter": "python",
   "pygments_lexer": "ipython3",
   "version": "3.12.9"
  }
 },
 "nbformat": 4,
 "nbformat_minor": 5
}
